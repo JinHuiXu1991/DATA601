{
 "cells": [
  {
   "cell_type": "markdown",
   "metadata": {},
   "source": [
    "1. Write a function that returns the count of characters and words in a string. \n",
    "   The string is provided to the function as an argument. "
   ]
  },
  {
   "cell_type": "code",
   "execution_count": null,
   "metadata": {},
   "outputs": [],
   "source": [
    "def count(string):\n",
    "  print(\"The count of characters in string:\", len(string), \"\\nThe count of words in string:\", len(string.split()))\n",
    "\n",
    "i = input(\"Enter string : \")\n",
    "\n",
    "count(i)"
   ]
  },
  {
   "cell_type": "markdown",
   "metadata": {},
   "source": [
    " 2. Write a function that takes a list as the argument and \n",
    "    returns a list with each element shifted right by one index. "
   ]
  },
  {
   "cell_type": "code",
   "execution_count": null,
   "metadata": {},
   "outputs": [],
   "source": [
    "def shift(list):\n",
    "  shift_list = list[-1:] + list[:-1]\n",
    "  print(\"Shifted list:\", shift_list) \n",
    "\n",
    "\n",
    "i = input(\"Enter the numbers or strings separated by space : \")\n",
    "input_list = i.split()\n",
    "\n",
    "print(\"Original list:\", input_list)\n",
    "\n",
    "shift(input_list)\n"
   ]
  },
  {
   "cell_type": "markdown",
   "metadata": {},
   "source": [
    " 3. Download data in CSV format from one of the following sites: here or here. \n",
    "    Load the data into a Pandas dataframe. Use Pandas to count the number of rows of data and number of columns. \n",
    "    Your selection of a CSV should have at least 2 columns and at least 10 rows. \n",
    "    Include a link to the data source in the Juptyer notebook you submit.\n",
    "    \n",
    "source: http://samplecsvs.s3.amazonaws.com/TechCrunchcontinentalUSA.csv\n"
   ]
  },
  {
   "cell_type": "code",
   "execution_count": null,
   "metadata": {},
   "outputs": [],
   "source": [
    "import pandas as pd\n",
    "\n",
    "data = pd.read_csv('TechCrunchcontinentalUSA.csv')\n",
    "\n",
    "df = pd.DataFrame(data)\n",
    "\n",
    "print(\"The number of rows of data:\", len(df), \"\\nThe number of columns of data:\", len(df.columns))"
   ]
  }
 ],
 "metadata": {
  "kernelspec": {
   "display_name": "Python 3",
   "language": "python",
   "name": "python3"
  },
  "language_info": {
   "codemirror_mode": {
    "name": "ipython",
    "version": 3
   },
   "file_extension": ".py",
   "mimetype": "text/x-python",
   "name": "python",
   "nbconvert_exporter": "python",
   "pygments_lexer": "ipython3",
   "version": "3.7.4"
  }
 },
 "nbformat": 4,
 "nbformat_minor": 2
}
