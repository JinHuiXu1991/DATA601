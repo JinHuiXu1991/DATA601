{
 "cells": [
  {
   "cell_type": "markdown",
   "metadata": {},
   "source": [
    "## University System of Maryland Salary Comparison\n",
    "\n"
   ]
  },
  {
   "cell_type": "code",
   "execution_count": 1,
   "metadata": {
    "scrolled": false
   },
   "outputs": [
    {
     "data": {
      "text/html": [
       "<div>\n",
       "<style scoped>\n",
       "    .dataframe tbody tr th:only-of-type {\n",
       "        vertical-align: middle;\n",
       "    }\n",
       "\n",
       "    .dataframe tbody tr th {\n",
       "        vertical-align: top;\n",
       "    }\n",
       "\n",
       "    .dataframe thead th {\n",
       "        text-align: right;\n",
       "    }\n",
       "</style>\n",
       "<table border=\"1\" class=\"dataframe\">\n",
       "  <thead>\n",
       "    <tr style=\"text-align: right;\">\n",
       "      <th></th>\n",
       "      <th>first_name</th>\n",
       "      <th>middle_initial</th>\n",
       "      <th>last_name</th>\n",
       "      <th>suffix</th>\n",
       "      <th>system</th>\n",
       "      <th>agency</th>\n",
       "      <th>organization</th>\n",
       "      <th>subtitle</th>\n",
       "      <th>class_code</th>\n",
       "      <th>annual_salary</th>\n",
       "      <th>pay_rate</th>\n",
       "      <th>regular_earnings</th>\n",
       "      <th>overtime_earnings</th>\n",
       "      <th>other_earnings</th>\n",
       "      <th>ytd_gross_earnings</th>\n",
       "      <th>term_date</th>\n",
       "      <th>location</th>\n",
       "      <th>School</th>\n",
       "      <th>income_categories</th>\n",
       "    </tr>\n",
       "  </thead>\n",
       "  <tbody>\n",
       "    <tr>\n",
       "      <td>123086</td>\n",
       "      <td>OLEG</td>\n",
       "      <td>NaN</td>\n",
       "      <td>FIRSIN</td>\n",
       "      <td>NaN</td>\n",
       "      <td>UM</td>\n",
       "      <td>360231</td>\n",
       "      <td>UNIVERSITY OF MARYLAND</td>\n",
       "      <td>360231-UMBC</td>\n",
       "      <td>1012</td>\n",
       "      <td>100000.0</td>\n",
       "      <td>A</td>\n",
       "      <td>104000</td>\n",
       "      <td>0</td>\n",
       "      <td>500</td>\n",
       "      <td>105000</td>\n",
       "      <td>NaN</td>\n",
       "      <td>Baltimore County</td>\n",
       "      <td>UMBC</td>\n",
       "      <td>100000+</td>\n",
       "    </tr>\n",
       "    <tr>\n",
       "      <td>123087</td>\n",
       "      <td>B</td>\n",
       "      <td>M</td>\n",
       "      <td>RABIN</td>\n",
       "      <td>NaN</td>\n",
       "      <td>UM</td>\n",
       "      <td>360231</td>\n",
       "      <td>UNIVERSITY OF MARYLAND</td>\n",
       "      <td>360231-UMBC</td>\n",
       "      <td>1212</td>\n",
       "      <td>141000.0</td>\n",
       "      <td>A</td>\n",
       "      <td>138000</td>\n",
       "      <td>0</td>\n",
       "      <td>500</td>\n",
       "      <td>138000</td>\n",
       "      <td>NaN</td>\n",
       "      <td>Baltimore County</td>\n",
       "      <td>UMBC</td>\n",
       "      <td>100000+</td>\n",
       "    </tr>\n",
       "    <tr>\n",
       "      <td>123088</td>\n",
       "      <td>MD TOUHIDUL</td>\n",
       "      <td>NaN</td>\n",
       "      <td>ISLAM</td>\n",
       "      <td>NaN</td>\n",
       "      <td>UM</td>\n",
       "      <td>360231</td>\n",
       "      <td>UNIVERSITY OF MARYLAND</td>\n",
       "      <td>360231-UMBC</td>\n",
       "      <td>1212</td>\n",
       "      <td>32000.0</td>\n",
       "      <td>A</td>\n",
       "      <td>0</td>\n",
       "      <td>0</td>\n",
       "      <td>10500</td>\n",
       "      <td>10000</td>\n",
       "      <td>NaN</td>\n",
       "      <td>Baltimore County</td>\n",
       "      <td>UMBC</td>\n",
       "      <td>0-10000</td>\n",
       "    </tr>\n",
       "    <tr>\n",
       "      <td>123089</td>\n",
       "      <td>RUCHITA</td>\n",
       "      <td>NaN</td>\n",
       "      <td>PARAB</td>\n",
       "      <td>NaN</td>\n",
       "      <td>UM</td>\n",
       "      <td>360231</td>\n",
       "      <td>UNIVERSITY OF MARYLAND</td>\n",
       "      <td>360231-UMBC</td>\n",
       "      <td>1111</td>\n",
       "      <td>0.0</td>\n",
       "      <td>H</td>\n",
       "      <td>0</td>\n",
       "      <td>0</td>\n",
       "      <td>5600</td>\n",
       "      <td>6000</td>\n",
       "      <td>2019-05-26T00:00:00Z</td>\n",
       "      <td>Baltimore County</td>\n",
       "      <td>UMBC</td>\n",
       "      <td>0-10000</td>\n",
       "    </tr>\n",
       "    <tr>\n",
       "      <td>123090</td>\n",
       "      <td>SURBHI</td>\n",
       "      <td>G</td>\n",
       "      <td>LIPKIN-MOORE</td>\n",
       "      <td>NaN</td>\n",
       "      <td>UM</td>\n",
       "      <td>360231</td>\n",
       "      <td>UNIVERSITY OF MARYLAND</td>\n",
       "      <td>360231-UMBC</td>\n",
       "      <td>1212</td>\n",
       "      <td>18000.0</td>\n",
       "      <td>A</td>\n",
       "      <td>1000</td>\n",
       "      <td>0</td>\n",
       "      <td>9000</td>\n",
       "      <td>10000</td>\n",
       "      <td>NaN</td>\n",
       "      <td>Baltimore County</td>\n",
       "      <td>UMBC</td>\n",
       "      <td>0-10000</td>\n",
       "    </tr>\n",
       "    <tr>\n",
       "      <td>...</td>\n",
       "      <td>...</td>\n",
       "      <td>...</td>\n",
       "      <td>...</td>\n",
       "      <td>...</td>\n",
       "      <td>...</td>\n",
       "      <td>...</td>\n",
       "      <td>...</td>\n",
       "      <td>...</td>\n",
       "      <td>...</td>\n",
       "      <td>...</td>\n",
       "      <td>...</td>\n",
       "      <td>...</td>\n",
       "      <td>...</td>\n",
       "      <td>...</td>\n",
       "      <td>...</td>\n",
       "      <td>...</td>\n",
       "      <td>...</td>\n",
       "      <td>...</td>\n",
       "      <td>...</td>\n",
       "    </tr>\n",
       "    <tr>\n",
       "      <td>116289</td>\n",
       "      <td>IYAD ELDIN</td>\n",
       "      <td>M</td>\n",
       "      <td>ELFADIL</td>\n",
       "      <td>NaN</td>\n",
       "      <td>UM</td>\n",
       "      <td>360225</td>\n",
       "      <td>UNIVERSITY OF MARYLAND</td>\n",
       "      <td>360225-UMES</td>\n",
       "      <td>1111</td>\n",
       "      <td>0.0</td>\n",
       "      <td>H</td>\n",
       "      <td>1000</td>\n",
       "      <td>0</td>\n",
       "      <td>0</td>\n",
       "      <td>1000</td>\n",
       "      <td>NaN</td>\n",
       "      <td>Somerset County</td>\n",
       "      <td>UMES</td>\n",
       "      <td>0-10000</td>\n",
       "    </tr>\n",
       "    <tr>\n",
       "      <td>116290</td>\n",
       "      <td>AHMED</td>\n",
       "      <td>O</td>\n",
       "      <td>IBRAHIM</td>\n",
       "      <td>NaN</td>\n",
       "      <td>UM</td>\n",
       "      <td>360225</td>\n",
       "      <td>UNIVERSITY OF MARYLAND</td>\n",
       "      <td>360225-UMES</td>\n",
       "      <td>1111</td>\n",
       "      <td>0.0</td>\n",
       "      <td>H</td>\n",
       "      <td>0</td>\n",
       "      <td>0</td>\n",
       "      <td>0</td>\n",
       "      <td>0</td>\n",
       "      <td>2019-05-15T00:00:00Z</td>\n",
       "      <td>Somerset County</td>\n",
       "      <td>UMES</td>\n",
       "      <td>0-10000</td>\n",
       "    </tr>\n",
       "    <tr>\n",
       "      <td>116291</td>\n",
       "      <td>ZOE</td>\n",
       "      <td>C</td>\n",
       "      <td>JOHNSON</td>\n",
       "      <td>NaN</td>\n",
       "      <td>UM</td>\n",
       "      <td>360225</td>\n",
       "      <td>UNIVERSITY OF MARYLAND</td>\n",
       "      <td>360225-UMES</td>\n",
       "      <td>1212</td>\n",
       "      <td>15000.0</td>\n",
       "      <td>A</td>\n",
       "      <td>0</td>\n",
       "      <td>0</td>\n",
       "      <td>16800</td>\n",
       "      <td>17000</td>\n",
       "      <td>NaN</td>\n",
       "      <td>Somerset County</td>\n",
       "      <td>UMES</td>\n",
       "      <td>10001-20000</td>\n",
       "    </tr>\n",
       "    <tr>\n",
       "      <td>116292</td>\n",
       "      <td>SAWSAN</td>\n",
       "      <td>A</td>\n",
       "      <td>MOHAMED</td>\n",
       "      <td>NaN</td>\n",
       "      <td>UM</td>\n",
       "      <td>360225</td>\n",
       "      <td>UNIVERSITY OF MARYLAND</td>\n",
       "      <td>360225-UMES</td>\n",
       "      <td>1010</td>\n",
       "      <td>6000.0</td>\n",
       "      <td>A</td>\n",
       "      <td>6000</td>\n",
       "      <td>0</td>\n",
       "      <td>0</td>\n",
       "      <td>6000</td>\n",
       "      <td>NaN</td>\n",
       "      <td>Somerset County</td>\n",
       "      <td>UMES</td>\n",
       "      <td>0-10000</td>\n",
       "    </tr>\n",
       "    <tr>\n",
       "      <td>116293</td>\n",
       "      <td>THELMA</td>\n",
       "      <td>NaN</td>\n",
       "      <td>EZEH</td>\n",
       "      <td>NaN</td>\n",
       "      <td>UM</td>\n",
       "      <td>360225</td>\n",
       "      <td>UNIVERSITY OF MARYLAND</td>\n",
       "      <td>360225-UMES</td>\n",
       "      <td>1111</td>\n",
       "      <td>0.0</td>\n",
       "      <td>H</td>\n",
       "      <td>0</td>\n",
       "      <td>0</td>\n",
       "      <td>900</td>\n",
       "      <td>1000</td>\n",
       "      <td>NaN</td>\n",
       "      <td>Somerset County</td>\n",
       "      <td>UMES</td>\n",
       "      <td>0-10000</td>\n",
       "    </tr>\n",
       "  </tbody>\n",
       "</table>\n",
       "<p>65034 rows × 19 columns</p>\n",
       "</div>"
      ],
      "text/plain": [
       "         first_name middle_initial     last_name suffix system  agency  \\\n",
       "123086         OLEG            NaN        FIRSIN    NaN     UM  360231   \n",
       "123087            B              M         RABIN    NaN     UM  360231   \n",
       "123088  MD TOUHIDUL            NaN         ISLAM    NaN     UM  360231   \n",
       "123089      RUCHITA            NaN         PARAB    NaN     UM  360231   \n",
       "123090       SURBHI              G  LIPKIN-MOORE    NaN     UM  360231   \n",
       "...             ...            ...           ...    ...    ...     ...   \n",
       "116289   IYAD ELDIN              M       ELFADIL    NaN     UM  360225   \n",
       "116290        AHMED              O       IBRAHIM    NaN     UM  360225   \n",
       "116291          ZOE              C       JOHNSON    NaN     UM  360225   \n",
       "116292       SAWSAN              A       MOHAMED    NaN     UM  360225   \n",
       "116293       THELMA            NaN          EZEH    NaN     UM  360225   \n",
       "\n",
       "                  organization     subtitle  class_code  annual_salary  \\\n",
       "123086  UNIVERSITY OF MARYLAND  360231-UMBC        1012       100000.0   \n",
       "123087  UNIVERSITY OF MARYLAND  360231-UMBC        1212       141000.0   \n",
       "123088  UNIVERSITY OF MARYLAND  360231-UMBC        1212        32000.0   \n",
       "123089  UNIVERSITY OF MARYLAND  360231-UMBC        1111            0.0   \n",
       "123090  UNIVERSITY OF MARYLAND  360231-UMBC        1212        18000.0   \n",
       "...                        ...          ...         ...            ...   \n",
       "116289  UNIVERSITY OF MARYLAND  360225-UMES        1111            0.0   \n",
       "116290  UNIVERSITY OF MARYLAND  360225-UMES        1111            0.0   \n",
       "116291  UNIVERSITY OF MARYLAND  360225-UMES        1212        15000.0   \n",
       "116292  UNIVERSITY OF MARYLAND  360225-UMES        1010         6000.0   \n",
       "116293  UNIVERSITY OF MARYLAND  360225-UMES        1111            0.0   \n",
       "\n",
       "       pay_rate  regular_earnings  overtime_earnings  other_earnings  \\\n",
       "123086        A            104000                  0             500   \n",
       "123087        A            138000                  0             500   \n",
       "123088        A                 0                  0           10500   \n",
       "123089        H                 0                  0            5600   \n",
       "123090        A              1000                  0            9000   \n",
       "...         ...               ...                ...             ...   \n",
       "116289        H              1000                  0               0   \n",
       "116290        H                 0                  0               0   \n",
       "116291        A                 0                  0           16800   \n",
       "116292        A              6000                  0               0   \n",
       "116293        H                 0                  0             900   \n",
       "\n",
       "        ytd_gross_earnings             term_date          location School  \\\n",
       "123086              105000                   NaN  Baltimore County   UMBC   \n",
       "123087              138000                   NaN  Baltimore County   UMBC   \n",
       "123088               10000                   NaN  Baltimore County   UMBC   \n",
       "123089                6000  2019-05-26T00:00:00Z  Baltimore County   UMBC   \n",
       "123090               10000                   NaN  Baltimore County   UMBC   \n",
       "...                    ...                   ...               ...    ...   \n",
       "116289                1000                   NaN   Somerset County   UMES   \n",
       "116290                   0  2019-05-15T00:00:00Z   Somerset County   UMES   \n",
       "116291               17000                   NaN   Somerset County   UMES   \n",
       "116292                6000                   NaN   Somerset County   UMES   \n",
       "116293                1000                   NaN   Somerset County   UMES   \n",
       "\n",
       "       income_categories  \n",
       "123086           100000+  \n",
       "123087           100000+  \n",
       "123088           0-10000  \n",
       "123089           0-10000  \n",
       "123090           0-10000  \n",
       "...                  ...  \n",
       "116289           0-10000  \n",
       "116290           0-10000  \n",
       "116291       10001-20000  \n",
       "116292           0-10000  \n",
       "116293           0-10000  \n",
       "\n",
       "[65034 rows x 19 columns]"
      ]
     },
     "metadata": {},
     "output_type": "display_data"
    },
    {
     "name": "stdout",
     "output_type": "stream",
     "text": [
      "UMBC records number: 8893\n",
      "UMCP records number: 37295\n",
      "UMB records number: 10092\n",
      "UMGC records number: 6792\n",
      "UMES records number: 1962\n"
     ]
    }
   ],
   "source": [
    "import pandas as pd\n",
    "from scipy import stats\n",
    "from scipy.stats import normaltest\n",
    "from scipy.stats import shapiro\n",
    "import matplotlib.pyplot as plt\n",
    "import numpy as np\n",
    "from scipy.stats import kruskal\n",
    "import seaborn as sns\n",
    "\n",
    "data = pd.read_csv('cy2019-md.csv', low_memory=False)\n",
    "\n",
    "df = pd.DataFrame(data)\n",
    "\n",
    "df.loc[(df['subtitle'].str.contains('360231-UMBC|360295-UMBC', na=False)), 'location'] = \"Baltimore County\"\n",
    "df.loc[(df['subtitle'].str.contains('UMCP', na=False)), 'location'] = \"Prince Georges County\"\n",
    "df.loc[(df['subtitle'].str.contains('360221-UMB|360291-UMB', na=False)), 'location'] = \"Baltimore City\"\n",
    "df.loc[(df['subtitle'].str.contains('UMES', na=False)), 'location'] = \"Somerset County\"\n",
    "df.loc[(df['subtitle'].str.contains('UMGC', na=False)), 'location'] = \"Prince Georges County\"\n",
    "\n",
    "df.loc[(df['subtitle'].str.contains('360231-UMBC|360295-UMBC', na=False)), 'School'] = \"UMBC\"\n",
    "df.loc[(df['subtitle'].str.contains('UMCP', na=False)), 'School'] = \"UMCP\"\n",
    "df.loc[(df['subtitle'].str.contains('360221-UMB|360291-UMB', na=False)), 'School'] = \"UMB\"\n",
    "df.loc[(df['subtitle'].str.contains('UMES', na=False)), 'School'] = \"UMES\"\n",
    "df.loc[(df['subtitle'].str.contains('UMGC', na=False)), 'School'] = \"UMGC\"\n",
    "\n",
    "cut_points = [-1,10000, 20000, 30000, 40000, 50000, 60000, 70000, 80000, 90000, 100000, 10000000]\n",
    "label_names = [\"0-10000\",\"10001-20000\",\"20001-30000\",\"30001-40000\",\"40001-50000\",\n",
    "              \"50001-60000\",\"60001-70000\",\"70001-80000\",\"80001-90000\",\"90001-100000\", \"100000+\"]\n",
    "df[\"income_categories\"] = pd.cut(df[\"ytd_gross_earnings\"],cut_points,labels=label_names)\n",
    "\n",
    "UMBC = df[df['subtitle'].str.contains('360231-UMBC|360295-UMBC', na=False)]\n",
    "UMCP = df[df['subtitle'].str.contains('UMCP', na=False)]\n",
    "UMB = df[df['subtitle'].str.contains('360221-UMB|360291-UMB', na=False)]\n",
    "UMGC = df[df['subtitle'].str.contains('UMGC', na=False)]\n",
    "UMES = df[df['subtitle'].str.contains('UMES', na=False)]\n",
    "\n",
    "universities = UMBC.append(UMCP).append(UMB).append(UMGC).append(UMES)\n",
    "display(universities)\n",
    "\n",
    "print(\"UMBC records number: \" + str(len(UMBC)))\n",
    "print(\"UMCP records number: \" + str(len(UMCP)))\n",
    "print(\"UMB records number: \" + str(len(UMB)))\n",
    "print(\"UMGC records number: \" + str(len(UMGC)))\n",
    "print(\"UMES records number: \" + str(len(UMES)))"
   ]
  },
  {
   "cell_type": "code",
   "execution_count": 2,
   "metadata": {},
   "outputs": [],
   "source": [
    "interval = [10000, 20000, 30000, 40000, 50000, 60000, 70000, 80000, 90000, 100000,\n",
    "           110000, 120000, 130000, 140000, 150000, 160000, 170000, 180000, 190000, 200000]"
   ]
  },
  {
   "cell_type": "code",
   "execution_count": 59,
   "metadata": {},
   "outputs": [
    {
     "data": {
      "image/png": "[encoded data removed]",
      "text/plain": [
       "<Figure size 1080x576 with 1 Axes>"
      ]
     },
     "metadata": {
      "needs_background": "light"
     },
     "output_type": "display_data"
    },
    {
     "name": "stdout",
     "output_type": "stream",
     "text": [
      "<bound method Series.mean of 123086    105000\n",
      "123087    138000\n",
      "123088     10000\n",
      "123089      6000\n",
      "123090     10000\n",
      "           ...  \n",
      "134396      2000\n",
      "134397     11000\n",
      "134398     10000\n",
      "134399     13000\n",
      "134400     14000\n",
      "Name: ytd_gross_earnings, Length: 8893, dtype: int64>\n"
     ]
    }
   ],
   "source": [
    "plt.figure(figsize=(15,8))\n",
    "plt.title('UMBC salary distribution')\n",
    "plt.xlabel('income')\n",
    "plt.ylabel('frequency')\n",
    "_=plt.hist(UMBC['ytd_gross_earnings'], bins=interval, align='left', rwidth=0.7, color='orange')\n",
    "plt.xticks(interval)\n",
    "plt.show()\n"
   ]
  },
  {
   "cell_type": "code",
   "execution_count": 60,
   "metadata": {
    "scrolled": false
   },
   "outputs": [
    {
     "data": {
      "image/png": "[encoded data removed]",
      "text/plain": [
       "<Figure size 1080x576 with 1 Axes>"
      ]
     },
     "metadata": {
      "needs_background": "light"
     },
     "output_type": "display_data"
    },
    {
     "name": "stdout",
     "output_type": "stream",
     "text": [
      "<bound method Series.median of 127895        0\n",
      "127502     1000\n",
      "131283        0\n",
      "128998        0\n",
      "131805     4000\n",
      "          ...  \n",
      "126174        0\n",
      "126120    79000\n",
      "130010    14000\n",
      "125031        0\n",
      "127934        0\n",
      "Name: ytd_gross_earnings, Length: 1000, dtype: int64>\n"
     ]
    }
   ],
   "source": [
    "UMBC_sample_salary = UMBC.sample(n = 1000, replace = False) \n",
    "\n",
    "plt.figure(figsize=(15,8))\n",
    "plt.title('UMBC sample salary distribution')\n",
    "plt.xlabel('income')\n",
    "plt.ylabel('frequency')\n",
    "_=plt.hist(UMBC_sample_salary['ytd_gross_earnings'], bins=interval, align='left', rwidth=0.7)\n",
    "plt.xticks(interval)\n",
    "plt.show()\n"
   ]
  },
  {
   "cell_type": "code",
   "execution_count": 5,
   "metadata": {},
   "outputs": [
    {
     "data": {
      "image/png": "[encoded data removed]",
      "text/plain": [
       "<Figure size 1080x576 with 1 Axes>"
      ]
     },
     "metadata": {
      "needs_background": "light"
     },
     "output_type": "display_data"
    }
   ],
   "source": [
    "plt.figure(figsize=(15,8))\n",
    "plt.title('UMCP salary distribution')\n",
    "plt.xlabel('income')\n",
    "plt.ylabel('frequency')\n",
    "_=plt.hist(UMCP['ytd_gross_earnings'], bins=interval, align='left', rwidth=0.7, color='orange')\n",
    "plt.xticks(interval)\n",
    "plt.show()"
   ]
  },
  {
   "cell_type": "code",
   "execution_count": 6,
   "metadata": {},
   "outputs": [
    {
     "data": {
      "image/png": "[encoded data removed]",
      "text/plain": [
       "<Figure size 1080x576 with 1 Axes>"
      ]
     },
     "metadata": {
      "needs_background": "light"
     },
     "output_type": "display_data"
    }
   ],
   "source": [
    "UMCP_sample_salary = UMCP.sample(n = 1000, replace = False) \n",
    "\n",
    "plt.figure(figsize=(15,8))\n",
    "plt.title('UMCP sample salary distribution')\n",
    "plt.xlabel('income')\n",
    "plt.ylabel('frequency')\n",
    "_=plt.hist(UMCP_sample_salary['ytd_gross_earnings'], bins=interval, align='left', rwidth=0.7)\n",
    "plt.xticks(interval)\n",
    "plt.show()"
   ]
  },
  {
   "cell_type": "code",
   "execution_count": 7,
   "metadata": {},
   "outputs": [
    {
     "data": {
      "image/png": "[encoded data removed]",
      "text/plain": [
       "<Figure size 1080x576 with 1 Axes>"
      ]
     },
     "metadata": {
      "needs_background": "light"
     },
     "output_type": "display_data"
    }
   ],
   "source": [
    "plt.figure(figsize=(15,8))\n",
    "plt.title('UMB salary distribution')\n",
    "plt.xlabel('income')\n",
    "plt.ylabel('frequency')\n",
    "_=plt.hist(UMB['ytd_gross_earnings'], bins=interval, align='left', rwidth=0.7, color='orange')\n",
    "plt.xticks(interval)\n",
    "plt.show()"
   ]
  },
  {
   "cell_type": "code",
   "execution_count": 8,
   "metadata": {},
   "outputs": [
    {
     "data": {
      "image/png": "[encoded data removed]",
      "text/plain": [
       "<Figure size 1080x576 with 1 Axes>"
      ]
     },
     "metadata": {
      "needs_background": "light"
     },
     "output_type": "display_data"
    }
   ],
   "source": [
    "UMB_sample_salary = UMB.sample(n = 1000, replace = False) \n",
    "\n",
    "plt.figure(figsize=(15,8))\n",
    "plt.title('UMB sample salary distribution')\n",
    "plt.xlabel('income')\n",
    "plt.ylabel('frequency')\n",
    "_=plt.hist(UMB_sample_salary['ytd_gross_earnings'], bins=interval, align='left', rwidth=0.7)\n",
    "plt.xticks(interval)\n",
    "plt.show()"
   ]
  },
  {
   "cell_type": "code",
   "execution_count": 9,
   "metadata": {},
   "outputs": [
    {
     "data": {
      "image/png": "[encoded data removed]",
      "text/plain": [
       "<Figure size 1080x576 with 1 Axes>"
      ]
     },
     "metadata": {
      "needs_background": "light"
     },
     "output_type": "display_data"
    },
    {
     "name": "stdout",
     "output_type": "stream",
     "text": [
      "<bound method Series.mean of 116294    134000\n",
      "116295     15000\n",
      "116296     18000\n",
      "116297     10000\n",
      "116298     34000\n",
      "           ...  \n",
      "123081      4000\n",
      "123082     17000\n",
      "123083      3000\n",
      "123084      5000\n",
      "123085     63000\n",
      "Name: ytd_gross_earnings, Length: 6792, dtype: int64>\n"
     ]
    }
   ],
   "source": [
    "plt.figure(figsize=(15,8))\n",
    "plt.title('UMGC salary distribution')\n",
    "plt.xlabel('income')\n",
    "plt.ylabel('frequency')\n",
    "_=plt.hist(UMGC['ytd_gross_earnings'], bins=interval, align='left', rwidth=0.7, color='orange')\n",
    "plt.xticks(interval)\n",
    "plt.show()"
   ]
  },
  {
   "cell_type": "code",
   "execution_count": 10,
   "metadata": {},
   "outputs": [
    {
     "data": {
      "image/png": "[encoded data removed]",
      "text/plain": [
       "<Figure size 1080x576 with 1 Axes>"
      ]
     },
     "metadata": {
      "needs_background": "light"
     },
     "output_type": "display_data"
    }
   ],
   "source": [
    "UMGC_sample_salary = UMGC.sample(n = 1000, replace = False) \n",
    "\n",
    "plt.figure(figsize=(15,8))\n",
    "plt.title('UMGC sample salary distribution')\n",
    "plt.xlabel('income')\n",
    "plt.ylabel('frequency')\n",
    "_=plt.hist(UMGC_sample_salary['ytd_gross_earnings'], bins=interval, align='left', rwidth=0.7)\n",
    "plt.xticks(interval)\n",
    "plt.show()"
   ]
  },
  {
   "cell_type": "code",
   "execution_count": 11,
   "metadata": {},
   "outputs": [
    {
     "data": {
      "image/png": "[encoded data removed]",
      "text/plain": [
       "<Figure size 1080x576 with 1 Axes>"
      ]
     },
     "metadata": {
      "needs_background": "light"
     },
     "output_type": "display_data"
    }
   ],
   "source": [
    "plt.figure(figsize=(15,8))\n",
    "plt.title('UMES salary distribution')\n",
    "plt.xlabel('income')\n",
    "plt.ylabel('frequency')\n",
    "_=plt.hist(UMES['ytd_gross_earnings'], bins=interval, align='left', rwidth=0.7, color='orange')\n",
    "plt.xticks(interval)\n",
    "plt.show()"
   ]
  },
  {
   "cell_type": "code",
   "execution_count": 12,
   "metadata": {},
   "outputs": [
    {
     "data": {
      "image/png": "[encoded data removed]",
      "text/plain": [
       "<Figure size 1080x576 with 1 Axes>"
      ]
     },
     "metadata": {
      "needs_background": "light"
     },
     "output_type": "display_data"
    }
   ],
   "source": [
    "UMES_sample_salary = UMES.sample(n = 1000, replace = False) \n",
    "\n",
    "plt.figure(figsize=(15,8))\n",
    "plt.title('UMES sample salary distribution')\n",
    "plt.xlabel('income')\n",
    "plt.ylabel('frequency')\n",
    "_=plt.hist(UMES_sample_salary['ytd_gross_earnings'], bins=interval, align='left', rwidth=0.7)\n",
    "plt.xticks(interval)\n",
    "plt.show()"
   ]
  },
  {
   "cell_type": "code",
   "execution_count": 13,
   "metadata": {},
   "outputs": [
    {
     "name": "stdout",
     "output_type": "stream",
     "text": [
      "UMBC salary mean: 22720.566737883728\n",
      "UMCP salary mean: 28138.35634803593\n",
      "UMB salary mean: 65774.77209671027\n",
      "UMGC salary mean: 23162.54416961131\n",
      "UMES salary mean: 27361.875637104997\n"
     ]
    }
   ],
   "source": [
    "print('UMBC salary mean: ' + str(UMBC['ytd_gross_earnings'].mean()))\n",
    "print('UMCP salary mean: ' + str(UMCP['ytd_gross_earnings'].mean()))\n",
    "print('UMB salary mean: ' + str(UMB['ytd_gross_earnings'].mean()))\n",
    "print('UMGC salary mean: ' + str(UMGC['ytd_gross_earnings'].mean()))\n",
    "print('UMES salary mean: ' + str(UMES['ytd_gross_earnings'].mean()))"
   ]
  },
  {
   "cell_type": "code",
   "execution_count": 14,
   "metadata": {},
   "outputs": [
    {
     "name": "stdout",
     "output_type": "stream",
     "text": [
      "The percentage difference between UMB and UMBC is  97.30276402308341\n",
      "The percentage difference between UMB and UMCP is  80.15155361546225\n",
      "The percentage difference between UMB and UMES is  82.48717855808898\n",
      "The percentage difference between UMB and UMGC is  95.82530644279218\n"
     ]
    }
   ],
   "source": [
    "UMB_UMBC_ALL=(UMB['ytd_gross_earnings'].mean()-UMBC['ytd_gross_earnings'].mean())/((UMB['ytd_gross_earnings'].mean() + UMBC['ytd_gross_earnings'].mean()) / 2)*100\n",
    "UMB_UMCP_ALL=(UMB['ytd_gross_earnings'].mean()-UMCP['ytd_gross_earnings'].mean())/((UMB['ytd_gross_earnings'].mean() + UMCP['ytd_gross_earnings'].mean()) / 2)*100\n",
    "UMB_UMES_ALL=(UMB['ytd_gross_earnings'].mean()-UMES['ytd_gross_earnings'].mean())/((UMB['ytd_gross_earnings'].mean() + UMES['ytd_gross_earnings'].mean()) / 2)*100\n",
    "UMB_UMGC_ALL=(UMB['ytd_gross_earnings'].mean()-UMGC['ytd_gross_earnings'].mean())/((UMB['ytd_gross_earnings'].mean() + UMGC['ytd_gross_earnings'].mean()) / 2)*100\n",
    "\n",
    "print('The percentage difference between UMB and UMBC is ',UMB_UMBC_ALL)\n",
    "print('The percentage difference between UMB and UMCP is ',UMB_UMCP_ALL)\n",
    "print('The percentage difference between UMB and UMES is ',UMB_UMES_ALL)\n",
    "print('The percentage difference between UMB and UMGC is ',UMB_UMGC_ALL)"
   ]
  },
  {
   "cell_type": "code",
   "execution_count": 15,
   "metadata": {},
   "outputs": [
    {
     "name": "stdout",
     "output_type": "stream",
     "text": [
      "UMBC sample salary mean: 23216.0\n",
      "UMCP sample salary mean: 30039.0\n",
      "UMB sample salary mean: 67261.0\n",
      "UMGC sample salary mean: 24372.0\n",
      "UMES sample salary mean: 27403.0\n"
     ]
    }
   ],
   "source": [
    "print('UMBC sample salary mean: ' + str(UMBC_sample_salary['ytd_gross_earnings'].mean()))\n",
    "print('UMCP sample salary mean: ' + str(UMCP_sample_salary['ytd_gross_earnings'].mean()))\n",
    "print('UMB sample salary mean: ' + str(UMB_sample_salary['ytd_gross_earnings'].mean()))\n",
    "print('UMGC sample salary mean: ' + str(UMGC_sample_salary['ytd_gross_earnings'].mean()))\n",
    "print('UMES sample salary mean: ' + str(UMES_sample_salary['ytd_gross_earnings'].mean()))\n"
   ]
  },
  {
   "cell_type": "code",
   "execution_count": 16,
   "metadata": {},
   "outputs": [
    {
     "name": "stdout",
     "output_type": "stream",
     "text": [
      "The percentage difference between UMB and UMBC is  97.36176044740652\n",
      "The percentage difference between UMB and UMCP is  76.50976361767728\n",
      "The percentage difference between UMB and UMES is  84.2094143497\n",
      "The percentage difference between UMB and UMGC is  93.61038053976188\n"
     ]
    }
   ],
   "source": [
    "UMB_UMBC_S=(UMB_sample_salary['ytd_gross_earnings'].mean()-UMBC_sample_salary['ytd_gross_earnings'].mean())/((UMB_sample_salary['ytd_gross_earnings'].mean() + UMBC_sample_salary['ytd_gross_earnings'].mean()) / 2)*100\n",
    "UMB_UMCP_S=(UMB_sample_salary['ytd_gross_earnings'].mean()-UMCP_sample_salary['ytd_gross_earnings'].mean())/((UMB_sample_salary['ytd_gross_earnings'].mean() + UMCP_sample_salary['ytd_gross_earnings'].mean()) / 2)*100\n",
    "UMB_UMES_S=(UMB_sample_salary['ytd_gross_earnings'].mean()-UMES_sample_salary['ytd_gross_earnings'].mean())/((UMB_sample_salary['ytd_gross_earnings'].mean() + UMES_sample_salary['ytd_gross_earnings'].mean()) / 2)*100\n",
    "UMB_UMGC_S=(UMB_sample_salary['ytd_gross_earnings'].mean()-UMGC_sample_salary['ytd_gross_earnings'].mean())/((UMB_sample_salary['ytd_gross_earnings'].mean() + UMGC_sample_salary['ytd_gross_earnings'].mean()) / 2)*100\n",
    "\n",
    "print('The percentage difference between UMB and UMBC is ',UMB_UMBC_S)\n",
    "print('The percentage difference between UMB and UMCP is ',UMB_UMCP_S)\n",
    "print('The percentage difference between UMB and UMES is ',UMB_UMES_S)\n",
    "print('The percentage difference between UMB and UMGC is ',UMB_UMGC_S)"
   ]
  },
  {
   "cell_type": "code",
   "execution_count": 17,
   "metadata": {},
   "outputs": [
    {
     "name": "stdout",
     "output_type": "stream",
     "text": [
      "UMBC salary median: 4000.0\n",
      "UMCP salary median: 7000.0\n",
      "UMB salary median: 44000.0\n",
      "UMGC salary median: 14000.0\n",
      "UMES salary median: 9000.0\n"
     ]
    }
   ],
   "source": [
    "print('UMBC salary median: ' + str(UMBC['ytd_gross_earnings'].median()))\n",
    "print('UMCP salary median: ' + str(UMCP['ytd_gross_earnings'].median()))\n",
    "print('UMB salary median: ' + str(UMB['ytd_gross_earnings'].median()))\n",
    "print('UMGC salary median: ' + str(UMGC['ytd_gross_earnings'].median()))\n",
    "print('UMES salary median: ' + str(UMES['ytd_gross_earnings'].median()))"
   ]
  },
  {
   "cell_type": "code",
   "execution_count": 18,
   "metadata": {},
   "outputs": [
    {
     "name": "stdout",
     "output_type": "stream",
     "text": [
      "UMBC sample salary median: 4000.0\n",
      "UMCP sample salary median: 8000.0\n",
      "UMB sample salary median: 45000.0\n",
      "UMGC sample salary median: 13500.0\n",
      "UMES sample salary median: 10000.0\n"
     ]
    }
   ],
   "source": [
    "print('UMBC sample salary median: ' + str(UMBC_sample_salary['ytd_gross_earnings'].median()))\n",
    "print('UMCP sample salary median: ' + str(UMCP_sample_salary['ytd_gross_earnings'].median()))\n",
    "print('UMB sample salary median: ' + str(UMB_sample_salary['ytd_gross_earnings'].median()))\n",
    "print('UMGC sample salary median: ' + str(UMGC_sample_salary['ytd_gross_earnings'].median()))\n",
    "print('UMES sample salary median: ' + str(UMES_sample_salary['ytd_gross_earnings'].median()))"
   ]
  },
  {
   "cell_type": "code",
   "execution_count": 19,
   "metadata": {},
   "outputs": [
    {
     "data": {
      "image/png": "[encoded data removed]",
      "text/plain": [
       "<Figure size 1080x576 with 1 Axes>"
      ]
     },
     "metadata": {
      "needs_background": "light"
     },
     "output_type": "display_data"
    }
   ],
   "source": [
    "plt.figure(figsize=(15,8))\n",
    "plt.title('Sample salary comparison')\n",
    "plt.xlabel('income')\n",
    "plt.ylabel('frequency')\n",
    "_=plt.hist([UMBC_sample_salary['ytd_gross_earnings'], UMCP_sample_salary['ytd_gross_earnings'], \n",
    "            UMB_sample_salary['ytd_gross_earnings'], UMGC_sample_salary['ytd_gross_earnings'], \n",
    "            UMES_sample_salary['ytd_gross_earnings']], bins=interval, \n",
    "           label=['UMBC', 'UMCP', 'UMB', 'UMGC', 'UMES'], align='left', rwidth=0.7)\n",
    "plt.xticks(interval)\n",
    "plt.legend()\n",
    "plt.show()"
   ]
  },
  {
   "cell_type": "code",
   "execution_count": 20,
   "metadata": {},
   "outputs": [
    {
     "data": {
      "text/plain": [
       "Text(0, 0.5, 'density')"
      ]
     },
     "execution_count": 20,
     "metadata": {},
     "output_type": "execute_result"
    },
    {
     "data": {
      "image/png": "[encoded data removed]",
      "text/plain": [
       "<Figure size 1080x576 with 1 Axes>"
      ]
     },
     "metadata": {
      "needs_background": "light"
     },
     "output_type": "display_data"
    }
   ],
   "source": [
    "\n",
    "plt.figure(figsize=(15,8))\n",
    "sns.distplot(UMBC_sample_salary['ytd_gross_earnings'], hist = False, label = 'UMBC')\n",
    "sns.distplot(UMCP_sample_salary['ytd_gross_earnings'], hist = False, label = 'UMCP')\n",
    "sns.distplot(UMB_sample_salary['ytd_gross_earnings'], hist = False, label = 'UMB')\n",
    "sns.distplot(UMGC_sample_salary['ytd_gross_earnings'], hist = False,  label = 'UMGC')\n",
    "sns.distplot(UMES_sample_salary['ytd_gross_earnings'], hist = False,  label = 'UMES')\n",
    "\n",
    "plt.legend()\n",
    "plt.title('Sample salary comparison')\n",
    "plt.xlabel('income')\n",
    "plt.ylabel('density')"
   ]
  },
  {
   "cell_type": "code",
   "execution_count": 21,
   "metadata": {},
   "outputs": [
    {
     "data": {
      "text/plain": [
       "{'whiskers': [<matplotlib.lines.Line2D at 0x148daf12d48>,\n",
       "  <matplotlib.lines.Line2D at 0x148db6dddc8>,\n",
       "  <matplotlib.lines.Line2D at 0x148d60c9e08>,\n",
       "  <matplotlib.lines.Line2D at 0x148dc621808>,\n",
       "  <matplotlib.lines.Line2D at 0x148db76c988>,\n",
       "  <matplotlib.lines.Line2D at 0x148db76c2c8>,\n",
       "  <matplotlib.lines.Line2D at 0x148db78ae08>,\n",
       "  <matplotlib.lines.Line2D at 0x148de261048>,\n",
       "  <matplotlib.lines.Line2D at 0x148db78be08>,\n",
       "  <matplotlib.lines.Line2D at 0x148db76c348>],\n",
       " 'caps': [<matplotlib.lines.Line2D at 0x148db6ddf48>,\n",
       "  <matplotlib.lines.Line2D at 0x148db7f4748>,\n",
       "  <matplotlib.lines.Line2D at 0x148db736c88>,\n",
       "  <matplotlib.lines.Line2D at 0x148dcf84648>,\n",
       "  <matplotlib.lines.Line2D at 0x148db79e908>,\n",
       "  <matplotlib.lines.Line2D at 0x148db79e888>,\n",
       "  <matplotlib.lines.Line2D at 0x148db771e08>,\n",
       "  <matplotlib.lines.Line2D at 0x148db7719c8>,\n",
       "  <matplotlib.lines.Line2D at 0x148db78be48>,\n",
       "  <matplotlib.lines.Line2D at 0x148db79eec8>],\n",
       " 'boxes': [<matplotlib.lines.Line2D at 0x148daf26348>,\n",
       "  <matplotlib.lines.Line2D at 0x148db85b3c8>,\n",
       "  <matplotlib.lines.Line2D at 0x148db85bc48>,\n",
       "  <matplotlib.lines.Line2D at 0x148de261a48>,\n",
       "  <matplotlib.lines.Line2D at 0x148db781c08>],\n",
       " 'medians': [<matplotlib.lines.Line2D at 0x148dd9143c8>,\n",
       "  <matplotlib.lines.Line2D at 0x148d60ec6c8>,\n",
       "  <matplotlib.lines.Line2D at 0x148db79efc8>,\n",
       "  <matplotlib.lines.Line2D at 0x148db760e48>,\n",
       "  <matplotlib.lines.Line2D at 0x148dae32648>],\n",
       " 'fliers': [<matplotlib.lines.Line2D at 0x148db700648>,\n",
       "  <matplotlib.lines.Line2D at 0x148d60f4cc8>,\n",
       "  <matplotlib.lines.Line2D at 0x148db78afc8>,\n",
       "  <matplotlib.lines.Line2D at 0x148db760bc8>,\n",
       "  <matplotlib.lines.Line2D at 0x148dae31d88>],\n",
       " 'means': []}"
      ]
     },
     "execution_count": 21,
     "metadata": {},
     "output_type": "execute_result"
    },
    {
     "data": {
      "image/png": "[encoded data removed]",
      "text/plain": [
       "<Figure size 1080x576 with 1 Axes>"
      ]
     },
     "metadata": {
      "needs_background": "light"
     },
     "output_type": "display_data"
    }
   ],
   "source": [
    "fig1, ax1 = plt.subplots(figsize=(15,8))\n",
    "ax1.set_title('Sample salary comparison')\n",
    "ax1.boxplot([UMBC_sample_salary['ytd_gross_earnings'], UMCP_sample_salary['ytd_gross_earnings'], \n",
    "             UMB_sample_salary['ytd_gross_earnings'], UMGC_sample_salary['ytd_gross_earnings'], UMES_sample_salary['ytd_gross_earnings']], \n",
    "            labels=['UMBC', 'UMCP', 'UMB', 'UMGC', 'UMES'])"
   ]
  },
  {
   "cell_type": "code",
   "execution_count": 62,
   "metadata": {},
   "outputs": [
    {
     "data": {
      "image/png": "[encoded data removed]",
      "text/plain": [
       "<Figure size 576x1080 with 1 Axes>"
      ]
     },
     "metadata": {
      "needs_background": "light"
     },
     "output_type": "display_data"
    }
   ],
   "source": [
    "all_sample_salary=UMBC_sample_salary.append(UMCP_sample_salary).append(UMB_sample_salary).append(UMGC_sample_salary).append(UMES_sample_salary)\n",
    "plt.figure(figsize=(8,15))\n",
    "plt.title('Sample salary comparison')\n",
    "ax = sns.boxplot(x=\"School\", y=\"ytd_gross_earnings\", data=all_sample_salary, notch=True)\n",
    "ax.set(xlabel='School', ylabel='income')\n",
    "plt.show()"
   ]
  },
  {
   "cell_type": "markdown",
   "metadata": {},
   "source": [
    "## Test ANOVA assumptions\n",
    "\n",
    "### Normal distribution\n",
    "#### D’Agostino’s K^2 Test\n",
    "#### Shapiro-Wilk Test"
   ]
  },
  {
   "cell_type": "code",
   "execution_count": 22,
   "metadata": {},
   "outputs": [
    {
     "name": "stdout",
     "output_type": "stream",
     "text": [
      "Statistics=88841.714564, p=0.000000\n",
      "Salary data does not look Gaussian (reject H0)\n",
      "Statistics=0.586377, p=0.000000\n",
      "Salary data does not look Gaussian (reject H0)\n"
     ]
    },
    {
     "name": "stderr",
     "output_type": "stream",
     "text": [
      "C:\\SchoolWork\\Anaconda3\\lib\\site-packages\\scipy\\stats\\morestats.py:1660: UserWarning: p-value may not be accurate for N > 5000.\n",
      "  warnings.warn(\"p-value may not be accurate for N > 5000.\")\n"
     ]
    }
   ],
   "source": [
    "universities_salary=universities['ytd_gross_earnings']\n",
    "stat, p = normaltest(universities_salary)\n",
    "print('Statistics=%.6f, p=%.6f' % (stat, p))\n",
    "alpha = 0.05\n",
    "if p > alpha:\n",
    "  print('Salary data looks Gaussian (fail to reject H0)')\n",
    "else:\n",
    "  print('Salary data does not look Gaussian (reject H0)')\n",
    "\n",
    "stat, p = shapiro(universities_salary)\n",
    "print('Statistics=%.6f, p=%.6f' % (stat, p))\n",
    "alpha = 0.05\n",
    "if p > alpha:\n",
    "  print('Salary data looks Gaussian (fail to reject H0)')\n",
    "else:\n",
    "  print('Salary data does not look Gaussian (reject H0)')\n"
   ]
  },
  {
   "cell_type": "code",
   "execution_count": 23,
   "metadata": {},
   "outputs": [
    {
     "name": "stdout",
     "output_type": "stream",
     "text": [
      "Statistics=549.272574, p=0.000000\n",
      "UMBC sample does not look Gaussian (reject H0)\n",
      "Statistics=0.657970, p=0.000000\n",
      "UMBC sample does not look Gaussian (reject H0)\n"
     ]
    }
   ],
   "source": [
    "stat, p = normaltest(UMBC_sample_salary['ytd_gross_earnings'])\n",
    "print('Statistics=%.6f, p=%.6f' % (stat, p))\n",
    "alpha = 0.05\n",
    "if p > alpha:\n",
    "  print('UMBC sample looks Gaussian (fail to reject H0)')\n",
    "else:\n",
    "  print('UMBC sample does not look Gaussian (reject H0)')\n",
    "\n",
    "stat, p = shapiro(UMBC_sample_salary['ytd_gross_earnings'])\n",
    "print('Statistics=%.6f, p=%.6f' % (stat, p))\n",
    "alpha = 0.05\n",
    "if p > alpha:\n",
    "  print('UMBC sample looks Gaussian (fail to reject H0)')\n",
    "else:\n",
    "  print('UMBC sample does not look Gaussian (reject H0)')"
   ]
  },
  {
   "cell_type": "code",
   "execution_count": 24,
   "metadata": {},
   "outputs": [
    {
     "name": "stdout",
     "output_type": "stream",
     "text": [
      "Statistics=728.174126, p=0.000000\n",
      "Sample does not look Gaussian (reject H0)\n",
      "Statistics=0.621180, p=0.000000\n",
      "Sample does not look Gaussian (reject H0)\n"
     ]
    }
   ],
   "source": [
    "stat, p = normaltest(UMCP_sample_salary['ytd_gross_earnings'])\n",
    "print('Statistics=%.6f, p=%.6f' % (stat, p))\n",
    "alpha = 0.05\n",
    "if p > alpha:\n",
    "  print('Sample looks Gaussian (fail to reject H0)')\n",
    "else:\n",
    "  print('Sample does not look Gaussian (reject H0)')\n",
    "\n",
    "stat, p = shapiro(UMCP_sample_salary['ytd_gross_earnings'])\n",
    "print('Statistics=%.6f, p=%.6f' % (stat, p))\n",
    "# interpret\n",
    "alpha = 0.05\n",
    "if p > alpha:\n",
    "  print('Sample looks Gaussian (fail to reject H0)')\n",
    "else:\n",
    "  print('Sample does not look Gaussian (reject H0)')"
   ]
  },
  {
   "cell_type": "code",
   "execution_count": 25,
   "metadata": {},
   "outputs": [
    {
     "name": "stdout",
     "output_type": "stream",
     "text": [
      "Statistics=714.663887, p=0.000000\n",
      "Sample does not look Gaussian (reject H0)\n",
      "Statistics=0.714405, p=0.000000\n",
      "Sample does not look Gaussian (reject H0)\n"
     ]
    }
   ],
   "source": [
    "stat, p = normaltest(UMB_sample_salary['ytd_gross_earnings'])\n",
    "print('Statistics=%.6f, p=%.6f' % (stat, p))\n",
    "alpha = 0.05\n",
    "if p > alpha:\n",
    "  print('Sample looks Gaussian (fail to reject H0)')\n",
    "else:\n",
    "  print('Sample does not look Gaussian (reject H0)')\n",
    "\n",
    "stat, p = shapiro(UMB_sample_salary['ytd_gross_earnings'])\n",
    "print('Statistics=%.6f, p=%.6f' % (stat, p))\n",
    "# interpret\n",
    "alpha = 0.05\n",
    "if p > alpha:\n",
    "  print('Sample looks Gaussian (fail to reject H0)')\n",
    "else:\n",
    "  print('Sample does not look Gaussian (reject H0)')"
   ]
  },
  {
   "cell_type": "code",
   "execution_count": 26,
   "metadata": {},
   "outputs": [
    {
     "name": "stdout",
     "output_type": "stream",
     "text": [
      "Statistics=352.910201, p=0.000000\n",
      "Sample does not look Gaussian (reject H0)\n",
      "Statistics=0.775974, p=0.000000\n",
      "Sample does not look Gaussian (reject H0)\n"
     ]
    }
   ],
   "source": [
    "stat, p = normaltest(UMES_sample_salary['ytd_gross_earnings'])\n",
    "print('Statistics=%.6f, p=%.6f' % (stat, p))\n",
    "alpha = 0.05\n",
    "if p > alpha:\n",
    "  print('Sample looks Gaussian (fail to reject H0)')\n",
    "else:\n",
    "  print('Sample does not look Gaussian (reject H0)')\n",
    "\n",
    "stat, p = shapiro(UMES_sample_salary['ytd_gross_earnings'])\n",
    "print('Statistics=%.6f, p=%.6f' % (stat, p))\n",
    "# interpret\n",
    "alpha = 0.05\n",
    "if p > alpha:\n",
    "  print('Sample looks Gaussian (fail to reject H0)')\n",
    "else:\n",
    "  print('Sample does not look Gaussian (reject H0)')"
   ]
  },
  {
   "cell_type": "markdown",
   "metadata": {},
   "source": [
    "### Homogeneity of variances"
   ]
  },
  {
   "cell_type": "code",
   "execution_count": 27,
   "metadata": {},
   "outputs": [
    {
     "name": "stdout",
     "output_type": "stream",
     "text": [
      "Statistics=1310.672508, p=0.000000\n",
      "Samples from populations do not have equal variances (reject H0)\n"
     ]
    }
   ],
   "source": [
    "w, p = stats.bartlett(UMBC_sample_salary['ytd_gross_earnings'], UMCP_sample_salary['ytd_gross_earnings'], \n",
    "                      UMB_sample_salary['ytd_gross_earnings'], UMGC_sample_salary['ytd_gross_earnings'], \n",
    "                      UMES_sample_salary['ytd_gross_earnings'])\n",
    "print('Statistics=%.6f, p=%.6f' % (w, p))\n",
    "alpha = 0.05\n",
    "if p > alpha:\n",
    "  print('Samples from populations have equal variances (fail to reject H0)')\n",
    "else:\n",
    "  print('Samples from populations do not have equal variances (reject H0)')"
   ]
  },
  {
   "cell_type": "markdown",
   "metadata": {},
   "source": [
    "## Analysis of Variance Test (ANOVA) \n",
    "### H0: salaries are all equal among the universities.\n",
    "### Ha: at least one of the universities is different from others."
   ]
  },
  {
   "cell_type": "code",
   "execution_count": 28,
   "metadata": {},
   "outputs": [
    {
     "name": "stdout",
     "output_type": "stream",
     "text": [
      "Statistics=121.188279, p=0.000000\n",
      "Probably different distributions (reject H0)\n"
     ]
    }
   ],
   "source": [
    "fvalue, pvalue = stats.f_oneway(UMBC_sample_salary['ytd_gross_earnings'], UMCP_sample_salary['ytd_gross_earnings'], \n",
    "                                UMB_sample_salary['ytd_gross_earnings'], UMGC_sample_salary['ytd_gross_earnings'], \n",
    "                                UMES_sample_salary['ytd_gross_earnings'])\n",
    "print('Statistics=%.6f, p=%.6f' % (fvalue, pvalue))\n",
    "alpha = 0.05\n",
    "if pvalue > alpha:\n",
    "    print('Probably the same distribution (fail to reject H0)')\n",
    "else:\n",
    "    print('Probably different distributions (reject H0)')"
   ]
  },
  {
   "cell_type": "markdown",
   "metadata": {},
   "source": [
    "The P-value obtained from ANOVA test is significant (P<0.05), so we conclude that there are significant differences among salaries of universities."
   ]
  },
  {
   "cell_type": "markdown",
   "metadata": {},
   "source": [
    "## Tukey HSD test for multiple pairwise comparison (Post-hoc comparison) \n",
    "### H0: no statistical significant difference between two universities\n",
    "### Ha: statistical significant difference between two universities"
   ]
  },
  {
   "cell_type": "code",
   "execution_count": 29,
   "metadata": {},
   "outputs": [],
   "source": [
    "all_sample_salary=UMBC_sample_salary.append(UMCP_sample_salary).append(UMB_sample_salary).append(UMGC_sample_salary).append(UMES_sample_salary)"
   ]
  },
  {
   "cell_type": "code",
   "execution_count": 30,
   "metadata": {},
   "outputs": [
    {
     "name": "stdout",
     "output_type": "stream",
     "text": [
      "    Multiple Comparison of Means - Tukey HSD, FWER=0.05     \n",
      "============================================================\n",
      "group1 group2 meandiff p-adj     lower       upper    reject\n",
      "------------------------------------------------------------\n",
      "   UMB   UMBC -44045.0  0.001 -50540.6842 -37549.3158   True\n",
      "   UMB   UMCP -37222.0  0.001 -43717.6842 -30726.3158   True\n",
      "   UMB   UMES -39858.0  0.001 -46353.6842 -33362.3158   True\n",
      "   UMB   UMGC -42889.0  0.001 -49384.6842 -36393.3158   True\n",
      "  UMBC   UMCP   6823.0 0.0339    327.3158  13318.6842   True\n",
      "  UMBC   UMES   4187.0 0.3994  -2308.6842  10682.6842  False\n",
      "  UMBC   UMGC   1156.0    0.9  -5339.6842   7651.6842  False\n",
      "  UMCP   UMES  -2636.0 0.7769  -9131.6842   3859.6842  False\n",
      "  UMCP   UMGC  -5667.0  0.121 -12162.6842    828.6842  False\n",
      "  UMES   UMGC  -3031.0 0.6827  -9526.6842   3464.6842  False\n",
      "------------------------------------------------------------\n"
     ]
    }
   ],
   "source": [
    "from statsmodels.stats.multicomp import pairwise_tukeyhsd\n",
    "\n",
    "result = pairwise_tukeyhsd(endog=all_sample_salary['ytd_gross_earnings'], groups=all_sample_salary['School'], alpha=0.05)\n",
    "print(result)\n"
   ]
  },
  {
   "cell_type": "markdown",
   "metadata": {},
   "source": [
    "Above results from Tukey HSD suggests that pairwise comparisons for UMB with all other universities reject null hypothesis and indicates statistical significant differences.\n",
    "\n",
    "Result: The salary of UMB is higher than all other schools."
   ]
  },
  {
   "cell_type": "code",
   "execution_count": 31,
   "metadata": {},
   "outputs": [
    {
     "data": {
      "text/plain": [
       "School  pay_rate\n",
       "UMB     A            7426\n",
       "        H            2666\n",
       "UMBC    A            3291\n",
       "        H            5602\n",
       "UMCP    A           18058\n",
       "        H           19237\n",
       "UMES    A            1003\n",
       "        H             959\n",
       "UMGC    A            1535\n",
       "        H            5257\n",
       "dtype: int64"
      ]
     },
     "metadata": {},
     "output_type": "display_data"
    },
    {
     "data": {
      "text/plain": [
       "School  pay_rate\n",
       "UMB     A           0.735830\n",
       "        H           0.264170\n",
       "UMBC    A           0.370066\n",
       "        H           0.629934\n",
       "UMCP    A           0.484194\n",
       "        H           0.515806\n",
       "UMES    A           0.511213\n",
       "        H           0.488787\n",
       "UMGC    A           0.226001\n",
       "        H           0.773999\n",
       "dtype: float64"
      ]
     },
     "metadata": {},
     "output_type": "display_data"
    }
   ],
   "source": [
    "a = df.groupby(['School','pay_rate']).size()\n",
    "display(a)\n",
    "a_p = a / a.groupby(level=0).sum()\n",
    "display(a_p)\n"
   ]
  },
  {
   "cell_type": "code",
   "execution_count": 32,
   "metadata": {},
   "outputs": [
    {
     "data": {
      "text/plain": [
       "School  pay_rate\n",
       "UMB     A           744\n",
       "        H           256\n",
       "UMBC    A           379\n",
       "        H           621\n",
       "UMCP    A           494\n",
       "        H           506\n",
       "UMES    A           511\n",
       "        H           489\n",
       "UMGC    A           234\n",
       "        H           766\n",
       "dtype: int64"
      ]
     },
     "metadata": {},
     "output_type": "display_data"
    },
    {
     "data": {
      "text/plain": [
       "School  pay_rate\n",
       "UMB     A           0.744\n",
       "        H           0.256\n",
       "UMBC    A           0.379\n",
       "        H           0.621\n",
       "UMCP    A           0.494\n",
       "        H           0.506\n",
       "UMES    A           0.511\n",
       "        H           0.489\n",
       "UMGC    A           0.234\n",
       "        H           0.766\n",
       "dtype: float64"
      ]
     },
     "metadata": {},
     "output_type": "display_data"
    }
   ],
   "source": [
    "b = all_sample_salary.groupby(['School','pay_rate']).size()\n",
    "display(b)\n",
    "b_p = b / b.groupby(level=0).sum()\n",
    "display(b_p)"
   ]
  },
  {
   "cell_type": "markdown",
   "metadata": {},
   "source": [
    "UMB has the greatest counts of Anural pay rate records compared to all other schools."
   ]
  },
  {
   "cell_type": "code",
   "execution_count": 33,
   "metadata": {},
   "outputs": [
    {
     "name": "stdout",
     "output_type": "stream",
     "text": [
      "UMBC termination count: 2364\n",
      "UMCP termination count: 10814\n",
      "UMB termination count: 1590\n",
      "UMGC termination count: 1244\n",
      "UMES termination count: 604\n"
     ]
    }
   ],
   "source": [
    "print('UMBC termination count: ' + str(UMBC['term_date'].count()))\n",
    "print('UMCP termination count: ' + str(UMCP['term_date'].count()))\n",
    "print('UMB termination count: ' + str(UMB['term_date'].count()))\n",
    "print('UMGC termination count: ' + str(UMGC['term_date'].count()))\n",
    "print('UMES termination count: ' + str(UMES['term_date'].count()))"
   ]
  },
  {
   "cell_type": "code",
   "execution_count": 34,
   "metadata": {},
   "outputs": [
    {
     "name": "stdout",
     "output_type": "stream",
     "text": [
      "UMBC sample termination count: 253\n",
      "UMCP sample termination count: 281\n",
      "UMB sample termination count: 153\n",
      "UMGC sample termination count: 178\n",
      "UMES sample termination count: 301\n"
     ]
    }
   ],
   "source": [
    "print('UMBC sample termination count: ' + str(UMBC_sample_salary['term_date'].count()))\n",
    "print('UMCP sample termination count: ' + str(UMCP_sample_salary['term_date'].count()))\n",
    "print('UMB sample termination count: ' + str(UMB_sample_salary['term_date'].count()))\n",
    "print('UMGC sample termination count: ' + str(UMGC_sample_salary['term_date'].count()))\n",
    "print('UMES sample termination count: ' + str(UMES_sample_salary['term_date'].count()))"
   ]
  },
  {
   "cell_type": "markdown",
   "metadata": {},
   "source": [
    "UMB has the lowest counts of termination records compared to all other schools.\n",
    "\n",
    "The reason could be the low termination rate and high number of annual pay rate type (full time) workers for UMB.\n",
    "Other schools have higher termination rate and higher number of hourly pay rate type (part time) workers than UMB."
   ]
  },
  {
   "cell_type": "markdown",
   "metadata": {},
   "source": [
    "## Kruskal-Wallis H Test (non-parametric ANOVA Test)\n",
    "### H0: salaries are all equal among the universities.\n",
    "### Ha: at least one of the universities is different from others."
   ]
  },
  {
   "cell_type": "code",
   "execution_count": 35,
   "metadata": {},
   "outputs": [
    {
     "name": "stdout",
     "output_type": "stream",
     "text": [
      "Statistics=378.250140, p=0.000000\n",
      "Probably different distributions (reject H0)\n"
     ]
    }
   ],
   "source": [
    "stat, p = kruskal(UMBC_sample_salary['ytd_gross_earnings'], UMCP_sample_salary['ytd_gross_earnings'], \n",
    "                  UMB_sample_salary['ytd_gross_earnings'], UMGC_sample_salary['ytd_gross_earnings'], \n",
    "                  UMES_sample_salary['ytd_gross_earnings'])\n",
    "print('Statistics=%.6f, p=%.6f' % (stat, p))\n",
    "alpha = 0.05\n",
    "if p > alpha:\n",
    "    print('Probably the same distribution (fail to reject H0)')\n",
    "else:\n",
    "    print('Probably different distributions (reject H0)')"
   ]
  },
  {
   "cell_type": "markdown",
   "metadata": {},
   "source": [
    "The P-value obtained from Kruskal-Wallis H test is significant (P<0.05), so we conclude that there are significant differences among salaries of universities."
   ]
  },
  {
   "cell_type": "markdown",
   "metadata": {},
   "source": [
    "## Conover's test for non-parametric multiple pairwise comparison (Post-hoc comparison)"
   ]
  },
  {
   "cell_type": "code",
   "execution_count": 36,
   "metadata": {},
   "outputs": [
    {
     "data": {
      "text/html": [
       "<div>\n",
       "<style scoped>\n",
       "    .dataframe tbody tr th:only-of-type {\n",
       "        vertical-align: middle;\n",
       "    }\n",
       "\n",
       "    .dataframe tbody tr th {\n",
       "        vertical-align: top;\n",
       "    }\n",
       "\n",
       "    .dataframe thead th {\n",
       "        text-align: right;\n",
       "    }\n",
       "</style>\n",
       "<table border=\"1\" class=\"dataframe\">\n",
       "  <thead>\n",
       "    <tr style=\"text-align: right;\">\n",
       "      <th></th>\n",
       "      <th>UMB</th>\n",
       "      <th>UMBC</th>\n",
       "      <th>UMCP</th>\n",
       "      <th>UMES</th>\n",
       "      <th>UMGC</th>\n",
       "    </tr>\n",
       "  </thead>\n",
       "  <tbody>\n",
       "    <tr>\n",
       "      <td>UMB</td>\n",
       "      <td>-1.000000e+00</td>\n",
       "      <td>3.789033e-77</td>\n",
       "      <td>7.507223e-50</td>\n",
       "      <td>1.385249e-35</td>\n",
       "      <td>9.292008e-35</td>\n",
       "    </tr>\n",
       "    <tr>\n",
       "      <td>UMBC</td>\n",
       "      <td>3.789033e-77</td>\n",
       "      <td>-1.000000e+00</td>\n",
       "      <td>4.136158e-04</td>\n",
       "      <td>1.327336e-09</td>\n",
       "      <td>5.430004e-10</td>\n",
       "    </tr>\n",
       "    <tr>\n",
       "      <td>UMCP</td>\n",
       "      <td>7.507223e-50</td>\n",
       "      <td>4.136158e-04</td>\n",
       "      <td>-1.000000e+00</td>\n",
       "      <td>2.903248e-02</td>\n",
       "      <td>2.721055e-02</td>\n",
       "    </tr>\n",
       "    <tr>\n",
       "      <td>UMES</td>\n",
       "      <td>1.385249e-35</td>\n",
       "      <td>1.327336e-09</td>\n",
       "      <td>2.903248e-02</td>\n",
       "      <td>-1.000000e+00</td>\n",
       "      <td>8.686863e-01</td>\n",
       "    </tr>\n",
       "    <tr>\n",
       "      <td>UMGC</td>\n",
       "      <td>9.292008e-35</td>\n",
       "      <td>5.430004e-10</td>\n",
       "      <td>2.721055e-02</td>\n",
       "      <td>8.686863e-01</td>\n",
       "      <td>-1.000000e+00</td>\n",
       "    </tr>\n",
       "  </tbody>\n",
       "</table>\n",
       "</div>"
      ],
      "text/plain": [
       "               UMB          UMBC          UMCP          UMES          UMGC\n",
       "UMB  -1.000000e+00  3.789033e-77  7.507223e-50  1.385249e-35  9.292008e-35\n",
       "UMBC  3.789033e-77 -1.000000e+00  4.136158e-04  1.327336e-09  5.430004e-10\n",
       "UMCP  7.507223e-50  4.136158e-04 -1.000000e+00  2.903248e-02  2.721055e-02\n",
       "UMES  1.385249e-35  1.327336e-09  2.903248e-02 -1.000000e+00  8.686863e-01\n",
       "UMGC  9.292008e-35  5.430004e-10  2.721055e-02  8.686863e-01 -1.000000e+00"
      ]
     },
     "execution_count": 36,
     "metadata": {},
     "output_type": "execute_result"
    }
   ],
   "source": [
    "import scikit_posthocs as sp\n",
    "sp.posthoc_conover(all_sample_salary, val_col='ytd_gross_earnings', group_col='School', p_adjust = 'holm')"
   ]
  },
  {
   "cell_type": "markdown",
   "metadata": {},
   "source": [
    "# Relationship between income and location for universities\n",
    "## Chi-Squared Test"
   ]
  },
  {
   "cell_type": "code",
   "execution_count": 37,
   "metadata": {},
   "outputs": [
    {
     "data": {
      "text/plain": [
       "Prince Georges County    44087\n",
       "Baltimore City           10092\n",
       "Baltimore County          8893\n",
       "Somerset County           1962\n",
       "Name: location, dtype: int64"
      ]
     },
     "execution_count": 37,
     "metadata": {},
     "output_type": "execute_result"
    }
   ],
   "source": [
    "income_by_location=universities[['location','income_categories','ytd_gross_earnings']]\n",
    "income_by_location['location'].value_counts()"
   ]
  },
  {
   "cell_type": "code",
   "execution_count": 38,
   "metadata": {},
   "outputs": [
    {
     "data": {
      "text/plain": [
       "0-10000         33297\n",
       "10001-20000      6460\n",
       "100000+          5605\n",
       "20001-30000      5118\n",
       "40001-50000      2742\n",
       "30001-40000      2727\n",
       "50001-60000      2720\n",
       "60001-70000      2167\n",
       "70001-80000      1692\n",
       "80001-90000      1371\n",
       "90001-100000     1135\n",
       "Name: income_categories, dtype: int64"
      ]
     },
     "execution_count": 38,
     "metadata": {},
     "output_type": "execute_result"
    }
   ],
   "source": [
    "income_by_location['income_categories'].value_counts()"
   ]
  },
  {
   "cell_type": "markdown",
   "metadata": {},
   "source": [
    "## The Null and Alternate Hypotheses\n",
    "\n",
    "### H0:There is no statistically significant relationship between income and the location of university.\n",
    "### Ha:There is a statistically significant relationship between income and  the location of university."
   ]
  },
  {
   "cell_type": "code",
   "execution_count": 39,
   "metadata": {},
   "outputs": [],
   "source": [
    "Prince_Georges_County  = income_by_location[income_by_location['location'].str.contains('Prince Georges County', na=False)]\n",
    "sample_Prince_Georges_County = Prince_Georges_County.sample(n = 1000, replace = False) \n",
    "\n",
    "Baltimore_City = income_by_location[income_by_location['location'].str.contains('Baltimore City', na=False)]\n",
    "sample_Baltimore_City = Baltimore_City.sample(n = 1000, replace = False) \n",
    "\n",
    "Baltimore_County  = income_by_location[income_by_location['location'].str.contains('Baltimore County', na=False)]\n",
    "sample_Baltimore_County = Baltimore_County.sample(n = 1000, replace = False) \n",
    "\n",
    "Somerset_County  = income_by_location[income_by_location['location'].str.contains('Somerset County', na=False)]\n",
    "sample_Somerset_County = Somerset_County.sample(n = 1000, replace = False) "
   ]
  },
  {
   "cell_type": "code",
   "execution_count": 40,
   "metadata": {},
   "outputs": [
    {
     "data": {
      "text/html": [
       "<div>\n",
       "<style scoped>\n",
       "    .dataframe tbody tr th:only-of-type {\n",
       "        vertical-align: middle;\n",
       "    }\n",
       "\n",
       "    .dataframe tbody tr th {\n",
       "        vertical-align: top;\n",
       "    }\n",
       "\n",
       "    .dataframe thead th {\n",
       "        text-align: right;\n",
       "    }\n",
       "</style>\n",
       "<table border=\"1\" class=\"dataframe\">\n",
       "  <thead>\n",
       "    <tr style=\"text-align: right;\">\n",
       "      <th></th>\n",
       "      <th>location</th>\n",
       "      <th>income_categories</th>\n",
       "      <th>ytd_gross_earnings</th>\n",
       "    </tr>\n",
       "  </thead>\n",
       "  <tbody>\n",
       "    <tr>\n",
       "      <td>120562</td>\n",
       "      <td>Prince Georges County</td>\n",
       "      <td>20001-30000</td>\n",
       "      <td>23000</td>\n",
       "    </tr>\n",
       "    <tr>\n",
       "      <td>118863</td>\n",
       "      <td>Prince Georges County</td>\n",
       "      <td>40001-50000</td>\n",
       "      <td>50000</td>\n",
       "    </tr>\n",
       "    <tr>\n",
       "      <td>88354</td>\n",
       "      <td>Prince Georges County</td>\n",
       "      <td>0-10000</td>\n",
       "      <td>0</td>\n",
       "    </tr>\n",
       "    <tr>\n",
       "      <td>113341</td>\n",
       "      <td>Prince Georges County</td>\n",
       "      <td>10001-20000</td>\n",
       "      <td>20000</td>\n",
       "    </tr>\n",
       "    <tr>\n",
       "      <td>134360</td>\n",
       "      <td>Prince Georges County</td>\n",
       "      <td>0-10000</td>\n",
       "      <td>0</td>\n",
       "    </tr>\n",
       "    <tr>\n",
       "      <td>...</td>\n",
       "      <td>...</td>\n",
       "      <td>...</td>\n",
       "      <td>...</td>\n",
       "    </tr>\n",
       "    <tr>\n",
       "      <td>114860</td>\n",
       "      <td>Somerset County</td>\n",
       "      <td>40001-50000</td>\n",
       "      <td>42000</td>\n",
       "    </tr>\n",
       "    <tr>\n",
       "      <td>114930</td>\n",
       "      <td>Somerset County</td>\n",
       "      <td>0-10000</td>\n",
       "      <td>4000</td>\n",
       "    </tr>\n",
       "    <tr>\n",
       "      <td>114827</td>\n",
       "      <td>Somerset County</td>\n",
       "      <td>50001-60000</td>\n",
       "      <td>57000</td>\n",
       "    </tr>\n",
       "    <tr>\n",
       "      <td>115906</td>\n",
       "      <td>Somerset County</td>\n",
       "      <td>100000+</td>\n",
       "      <td>132000</td>\n",
       "    </tr>\n",
       "    <tr>\n",
       "      <td>114929</td>\n",
       "      <td>Somerset County</td>\n",
       "      <td>40001-50000</td>\n",
       "      <td>48000</td>\n",
       "    </tr>\n",
       "  </tbody>\n",
       "</table>\n",
       "<p>4000 rows × 3 columns</p>\n",
       "</div>"
      ],
      "text/plain": [
       "                     location income_categories  ytd_gross_earnings\n",
       "120562  Prince Georges County       20001-30000               23000\n",
       "118863  Prince Georges County       40001-50000               50000\n",
       "88354   Prince Georges County           0-10000                   0\n",
       "113341  Prince Georges County       10001-20000               20000\n",
       "134360  Prince Georges County           0-10000                   0\n",
       "...                       ...               ...                 ...\n",
       "114860        Somerset County       40001-50000               42000\n",
       "114930        Somerset County           0-10000                4000\n",
       "114827        Somerset County       50001-60000               57000\n",
       "115906        Somerset County           100000+              132000\n",
       "114929        Somerset County       40001-50000               48000\n",
       "\n",
       "[4000 rows x 3 columns]"
      ]
     },
     "execution_count": 40,
     "metadata": {},
     "output_type": "execute_result"
    }
   ],
   "source": [
    "sample_income_by_location = sample_Prince_Georges_County.append(sample_Baltimore_City).append(sample_Baltimore_County).append(sample_Somerset_County)\n",
    "sample_income_by_location"
   ]
  },
  {
   "cell_type": "code",
   "execution_count": 41,
   "metadata": {},
   "outputs": [
    {
     "data": {
      "text/html": [
       "<div>\n",
       "<style scoped>\n",
       "    .dataframe tbody tr th:only-of-type {\n",
       "        vertical-align: middle;\n",
       "    }\n",
       "\n",
       "    .dataframe tbody tr th {\n",
       "        vertical-align: top;\n",
       "    }\n",
       "\n",
       "    .dataframe thead th {\n",
       "        text-align: right;\n",
       "    }\n",
       "</style>\n",
       "<table border=\"1\" class=\"dataframe\">\n",
       "  <thead>\n",
       "    <tr style=\"text-align: right;\">\n",
       "      <th>income_categories</th>\n",
       "      <th>0-10000</th>\n",
       "      <th>10001-20000</th>\n",
       "      <th>20001-30000</th>\n",
       "      <th>30001-40000</th>\n",
       "      <th>40001-50000</th>\n",
       "      <th>50001-60000</th>\n",
       "      <th>60001-70000</th>\n",
       "      <th>70001-80000</th>\n",
       "      <th>80001-90000</th>\n",
       "      <th>90001-100000</th>\n",
       "      <th>100000+</th>\n",
       "      <th>All</th>\n",
       "    </tr>\n",
       "    <tr>\n",
       "      <th>location</th>\n",
       "      <th></th>\n",
       "      <th></th>\n",
       "      <th></th>\n",
       "      <th></th>\n",
       "      <th></th>\n",
       "      <th></th>\n",
       "      <th></th>\n",
       "      <th></th>\n",
       "      <th></th>\n",
       "      <th></th>\n",
       "      <th></th>\n",
       "      <th></th>\n",
       "    </tr>\n",
       "  </thead>\n",
       "  <tbody>\n",
       "    <tr>\n",
       "      <td>Baltimore City</td>\n",
       "      <td>267</td>\n",
       "      <td>63</td>\n",
       "      <td>76</td>\n",
       "      <td>47</td>\n",
       "      <td>70</td>\n",
       "      <td>90</td>\n",
       "      <td>67</td>\n",
       "      <td>42</td>\n",
       "      <td>35</td>\n",
       "      <td>37</td>\n",
       "      <td>206</td>\n",
       "      <td>1000</td>\n",
       "    </tr>\n",
       "    <tr>\n",
       "      <td>Baltimore County</td>\n",
       "      <td>631</td>\n",
       "      <td>82</td>\n",
       "      <td>66</td>\n",
       "      <td>30</td>\n",
       "      <td>37</td>\n",
       "      <td>26</td>\n",
       "      <td>23</td>\n",
       "      <td>21</td>\n",
       "      <td>15</td>\n",
       "      <td>16</td>\n",
       "      <td>53</td>\n",
       "      <td>1000</td>\n",
       "    </tr>\n",
       "    <tr>\n",
       "      <td>Prince Georges County</td>\n",
       "      <td>536</td>\n",
       "      <td>116</td>\n",
       "      <td>81</td>\n",
       "      <td>41</td>\n",
       "      <td>40</td>\n",
       "      <td>31</td>\n",
       "      <td>26</td>\n",
       "      <td>34</td>\n",
       "      <td>18</td>\n",
       "      <td>18</td>\n",
       "      <td>59</td>\n",
       "      <td>1000</td>\n",
       "    </tr>\n",
       "    <tr>\n",
       "      <td>Somerset County</td>\n",
       "      <td>506</td>\n",
       "      <td>87</td>\n",
       "      <td>68</td>\n",
       "      <td>69</td>\n",
       "      <td>69</td>\n",
       "      <td>39</td>\n",
       "      <td>40</td>\n",
       "      <td>32</td>\n",
       "      <td>24</td>\n",
       "      <td>15</td>\n",
       "      <td>51</td>\n",
       "      <td>1000</td>\n",
       "    </tr>\n",
       "    <tr>\n",
       "      <td>All</td>\n",
       "      <td>1940</td>\n",
       "      <td>348</td>\n",
       "      <td>291</td>\n",
       "      <td>187</td>\n",
       "      <td>216</td>\n",
       "      <td>186</td>\n",
       "      <td>156</td>\n",
       "      <td>129</td>\n",
       "      <td>92</td>\n",
       "      <td>86</td>\n",
       "      <td>369</td>\n",
       "      <td>4000</td>\n",
       "    </tr>\n",
       "  </tbody>\n",
       "</table>\n",
       "</div>"
      ],
      "text/plain": [
       "income_categories      0-10000  10001-20000  20001-30000  30001-40000  \\\n",
       "location                                                                \n",
       "Baltimore City             267           63           76           47   \n",
       "Baltimore County           631           82           66           30   \n",
       "Prince Georges County      536          116           81           41   \n",
       "Somerset County            506           87           68           69   \n",
       "All                       1940          348          291          187   \n",
       "\n",
       "income_categories      40001-50000  50001-60000  60001-70000  70001-80000  \\\n",
       "location                                                                    \n",
       "Baltimore City                  70           90           67           42   \n",
       "Baltimore County                37           26           23           21   \n",
       "Prince Georges County           40           31           26           34   \n",
       "Somerset County                 69           39           40           32   \n",
       "All                            216          186          156          129   \n",
       "\n",
       "income_categories      80001-90000  90001-100000  100000+   All  \n",
       "location                                                         \n",
       "Baltimore City                  35            37      206  1000  \n",
       "Baltimore County                15            16       53  1000  \n",
       "Prince Georges County           18            18       59  1000  \n",
       "Somerset County                 24            15       51  1000  \n",
       "All                             92            86      369  4000  "
      ]
     },
     "execution_count": 41,
     "metadata": {},
     "output_type": "execute_result"
    }
   ],
   "source": [
    "contingency_table = pd.crosstab(\n",
    "    sample_income_by_location['location'],\n",
    "    sample_income_by_location['income_categories'],\n",
    "    margins = True\n",
    ")\n",
    "contingency_table"
   ]
  },
  {
   "cell_type": "code",
   "execution_count": 42,
   "metadata": {},
   "outputs": [
    {
     "data": {
      "image/png": "[encoded data removed]",
      "text/plain": [
       "<Figure size 1080x576 with 1 Axes>"
      ]
     },
     "metadata": {
      "needs_background": "light"
     },
     "output_type": "display_data"
    }
   ],
   "source": [
    "all_sample_income_by_location = []\n",
    "all_sample_income_by_location.append(sample_Baltimore_City['income_categories'])\n",
    "all_sample_income_by_location.append(sample_Baltimore_County['income_categories'])\n",
    "all_sample_income_by_location.append(sample_Prince_Georges_County['income_categories'])\n",
    "all_sample_income_by_location.append(sample_Somerset_County['income_categories'])\n",
    "locations = ['Baltimore City','Baltimore County','Prince Georges County','Somerset County']\n",
    "\n",
    "fig, ax = plt.subplots()\n",
    "index = np.arange(len(label_names))\n",
    "prop_iter = iter(plt.rcParams['axes.prop_cycle'])\n",
    "fig.set_size_inches(15, 8)\n",
    "bar_width = 0.2\n",
    "\n",
    "for i in range(len(all_sample_income_by_location)):\n",
    "    plt.bar(index+(bar_width*i), all_sample_income_by_location[i].value_counts(sort=False) , bar_width,color=next(prop_iter)['color'],\n",
    "           label=locations[i])\n",
    "\n",
    "plt.title('sample income by location')\n",
    "plt.xlabel('income')\n",
    "plt.ylabel('frequency')\n",
    "plt.xticks(index, label_names, rotation=60)\n",
    "plt.legend()\n",
    "plt.show()\n",
    "    "
   ]
  },
  {
   "cell_type": "code",
   "execution_count": 43,
   "metadata": {},
   "outputs": [],
   "source": [
    "BaltimoreCityCount = contingency_table.iloc[0][0:11].values\n",
    "BaltimoreCountyCount = contingency_table.iloc[1][0:11].values\n",
    "PrinceGeorgesCountyCount = contingency_table.iloc[2][0:11].values\n",
    "SomersetCountyCount = contingency_table.iloc[3][0:11].values"
   ]
  },
  {
   "cell_type": "code",
   "execution_count": 44,
   "metadata": {},
   "outputs": [
    {
     "data": {
      "text/plain": [
       "array([[267,  63,  76,  47,  70,  90,  67,  42,  35,  37, 206],\n",
       "       [631,  82,  66,  30,  37,  26,  23,  21,  15,  16,  53],\n",
       "       [536, 116,  81,  41,  40,  31,  26,  34,  18,  18,  59],\n",
       "       [506,  87,  68,  69,  69,  39,  40,  32,  24,  15,  51]],\n",
       "      dtype=int64)"
      ]
     },
     "execution_count": 44,
     "metadata": {},
     "output_type": "execute_result"
    }
   ],
   "source": [
    "table = np.array([BaltimoreCityCount,BaltimoreCountyCount,PrinceGeorgesCountyCount,SomersetCountyCount])\n",
    "table"
   ]
  },
  {
   "cell_type": "code",
   "execution_count": 45,
   "metadata": {},
   "outputs": [
    {
     "name": "stdout",
     "output_type": "stream",
     "text": [
      "Statistics=508.773154, p=0.000000\n",
      "There is a statistically significant relationship between income and the location of university. (reject H0)\n"
     ]
    }
   ],
   "source": [
    "stat, p = stats.chi2_contingency(table)[0:2]\n",
    "print('Statistics=%.6f, p=%.6f' % (stat, p))\n",
    "alpha = 0.05\n",
    "if p > alpha:\n",
    "  print('There is no statistically significant relationship between income and the location of university. (fail to reject H0)')\n",
    "else:\n",
    "  print('There is a statistically significant relationship between income and the location of university. (reject H0)')"
   ]
  },
  {
   "cell_type": "markdown",
   "metadata": {},
   "source": [
    "## Analysis of Variance Test (ANOVA) \n",
    "### H0: salaries are all equal among the locations.\n",
    "### Ha: at least one of the location is different from others."
   ]
  },
  {
   "cell_type": "code",
   "execution_count": 46,
   "metadata": {},
   "outputs": [
    {
     "name": "stdout",
     "output_type": "stream",
     "text": [
      "Statistics=168.034044, p=0.000000\n",
      "Probably different distributions (reject H0)\n"
     ]
    }
   ],
   "source": [
    "fvalue, pvalue = stats.f_oneway(sample_Baltimore_City['ytd_gross_earnings'], sample_Baltimore_County['ytd_gross_earnings'], \n",
    "                                sample_Prince_Georges_County['ytd_gross_earnings'], sample_Somerset_County['ytd_gross_earnings'] )\n",
    "print('Statistics=%.6f, p=%.6f' % (fvalue, pvalue))\n",
    "alpha = 0.05\n",
    "if pvalue > alpha:\n",
    "    print('Probably the same distribution (fail to reject H0)')\n",
    "else:\n",
    "    print('Probably different distributions (reject H0)')"
   ]
  },
  {
   "cell_type": "markdown",
   "metadata": {},
   "source": [
    "The P-value obtained from ANOVA test is significant (P<0.05), so we conclude that there are significant differences among salaries of locations."
   ]
  },
  {
   "cell_type": "markdown",
   "metadata": {},
   "source": [
    "# Tukey HSD test for multiple pairwise comparison (Post-hoc comparison) \n",
    "### H0: no statistical significant difference between two locations\n",
    "### Ha: statistical significant difference between two locations"
   ]
  },
  {
   "cell_type": "code",
   "execution_count": 47,
   "metadata": {},
   "outputs": [
    {
     "name": "stdout",
     "output_type": "stream",
     "text": [
      "                   Multiple Comparison of Means - Tukey HSD, FWER=0.05                    \n",
      "==========================================================================================\n",
      "        group1                group2        meandiff p-adj     lower       upper    reject\n",
      "------------------------------------------------------------------------------------------\n",
      "       Baltimore City      Baltimore County -45204.0  0.001 -51076.8556 -39331.1444   True\n",
      "       Baltimore City Prince Georges County -40196.0  0.001 -46068.8556 -34323.1444   True\n",
      "       Baltimore City       Somerset County -39300.0  0.001 -45172.8556 -33427.1444   True\n",
      "     Baltimore County Prince Georges County   5008.0 0.1255   -864.8556  10880.8556  False\n",
      "     Baltimore County       Somerset County   5904.0 0.0482     31.1444  11776.8556   True\n",
      "Prince Georges County       Somerset County    896.0    0.9  -4976.8556   6768.8556  False\n",
      "------------------------------------------------------------------------------------------\n"
     ]
    }
   ],
   "source": [
    "result = pairwise_tukeyhsd(endog=sample_income_by_location['ytd_gross_earnings'], groups=sample_income_by_location['location'], alpha=0.05)\n",
    "print(result)"
   ]
  },
  {
   "cell_type": "markdown",
   "metadata": {},
   "source": [
    "Above results from Tukey HSD suggests that pairwise comparisons for Baltimore City with all other locations reject null hypothesis and indicates statistical significant differences.\n",
    "\n",
    "Result: The salary of Baltimore City is higher than all other locations."
   ]
  },
  {
   "cell_type": "markdown",
   "metadata": {},
   "source": [
    "# Comparing Annual Pay Rate without termination salary for Schools"
   ]
  },
  {
   "cell_type": "code",
   "execution_count": 48,
   "metadata": {},
   "outputs": [
    {
     "data": {
      "image/png": "[encoded data removed]",
      "text/plain": [
       "<Figure size 1080x576 with 1 Axes>"
      ]
     },
     "metadata": {
      "needs_background": "light"
     },
     "output_type": "display_data"
    }
   ],
   "source": [
    "UMBC_A = UMBC[(UMBC['pay_rate']== 'A') & (UMBC['term_date'].isnull())]\n",
    "UMCP_A = UMCP[(UMCP['pay_rate']== 'A') & (UMCP['term_date'].isnull())]\n",
    "UMB_A = UMB[(UMB['pay_rate']== 'A') & (UMB['term_date'].isnull())]\n",
    "UMGC_A = UMGC[(UMGC['pay_rate']== 'A') & (UMGC['term_date'].isnull())]\n",
    "UMES_A = UMES[(UMES['pay_rate']== 'A') & (UMES['term_date'].isnull())]\n",
    "\n",
    "UMBC_A_sample = UMBC_A.sample(n = 500, replace = False) \n",
    "UMCP_A_sample = UMCP_A.sample(n = 500, replace = False) \n",
    "UMB_A_sample = UMB_A.sample(n = 500, replace = False) \n",
    "UMGC_A_sample = UMGC_A.sample(n = 500, replace = False) \n",
    "UMES_A_sample = UMES_A.sample(n = 500, replace = False) \n",
    "\n",
    "plt.figure(figsize=(15,8))\n",
    "plt.title('salary comparison (Annual pay rate)')\n",
    "plt.xlabel('income')\n",
    "plt.ylabel('frequency')\n",
    "_=plt.hist([UMBC_A_sample['ytd_gross_earnings'], UMCP_A_sample['ytd_gross_earnings'], \n",
    "            UMB_A_sample['ytd_gross_earnings'], UMGC_A_sample['ytd_gross_earnings'], \n",
    "            UMES_A_sample['ytd_gross_earnings']], bins=interval, \n",
    "           label=['UMBC', 'UMCP', 'UMB', 'UMGC', 'UMES'], align='left', rwidth=0.7)\n",
    "plt.xticks(interval)\n",
    "plt.legend()\n",
    "plt.show()"
   ]
  },
  {
   "cell_type": "code",
   "execution_count": 49,
   "metadata": {},
   "outputs": [
    {
     "name": "stdout",
     "output_type": "stream",
     "text": [
      "UMBC sample salary mean: 61260.0\n",
      "UMCP sample salary mean: 56886.0\n",
      "UMB sample salary mean: 90588.0\n",
      "UMGC sample salary mean: 65976.0\n",
      "UMES sample salary mean: 54014.0\n"
     ]
    }
   ],
   "source": [
    "print('UMBC sample salary mean: ' + str(UMBC_A_sample['ytd_gross_earnings'].mean()))\n",
    "print('UMCP sample salary mean: ' + str(UMCP_A_sample['ytd_gross_earnings'].mean()))\n",
    "print('UMB sample salary mean: ' + str(UMB_A_sample['ytd_gross_earnings'].mean()))\n",
    "print('UMGC sample salary mean: ' + str(UMGC_A_sample['ytd_gross_earnings'].mean()))\n",
    "print('UMES sample salary mean: ' + str(UMES_A_sample['ytd_gross_earnings'].mean()))"
   ]
  },
  {
   "cell_type": "code",
   "execution_count": 50,
   "metadata": {},
   "outputs": [
    {
     "name": "stdout",
     "output_type": "stream",
     "text": [
      "The percentage difference between UMB and UMBC is  38.62810178599652\n",
      "The percentage difference between UMB and UMCP is  45.70568371373937\n",
      "The percentage difference between UMB and UMES is  50.58574570199582\n",
      "The percentage difference between UMB and UMGC is  31.44017781865563\n"
     ]
    }
   ],
   "source": [
    "UMB_UMBC=(UMB_A_sample['ytd_gross_earnings'].mean()-UMBC_A_sample['ytd_gross_earnings'].mean())/((UMB_A_sample['ytd_gross_earnings'].mean() + UMBC_A_sample['ytd_gross_earnings'].mean()) / 2)*100\n",
    "UMB_UMCP=(UMB_A_sample['ytd_gross_earnings'].mean()-UMCP_A_sample['ytd_gross_earnings'].mean())/((UMB_A_sample['ytd_gross_earnings'].mean() + UMCP_A_sample['ytd_gross_earnings'].mean()) / 2)*100\n",
    "UMB_UMES=(UMB_A_sample['ytd_gross_earnings'].mean()-UMES_A_sample['ytd_gross_earnings'].mean())/((UMB_A_sample['ytd_gross_earnings'].mean() + UMES_A_sample['ytd_gross_earnings'].mean()) / 2)*100\n",
    "UMB_UMGC=(UMB_A_sample['ytd_gross_earnings'].mean()-UMGC_A_sample['ytd_gross_earnings'].mean())/((UMB_A_sample['ytd_gross_earnings'].mean() + UMGC_A_sample['ytd_gross_earnings'].mean()) / 2)*100\n",
    "\n",
    "print('The percentage difference between UMB and UMBC is ',UMB_UMBC)\n",
    "print('The percentage difference between UMB and UMCP is ',UMB_UMCP)\n",
    "print('The percentage difference between UMB and UMES is ',UMB_UMES)\n",
    "print('The percentage difference between UMB and UMGC is ',UMB_UMGC)"
   ]
  },
  {
   "cell_type": "code",
   "execution_count": 51,
   "metadata": {},
   "outputs": [
    {
     "name": "stdout",
     "output_type": "stream",
     "text": [
      "UMBC sample salary median: 55000.0\n",
      "UMCP sample salary median: 44500.0\n",
      "UMB sample salary median: 65000.0\n",
      "UMGC sample salary median: 55000.0\n",
      "UMES sample salary median: 48000.0\n"
     ]
    }
   ],
   "source": [
    "print('UMBC sample salary median: ' + str(UMBC_A_sample['ytd_gross_earnings'].median()))\n",
    "print('UMCP sample salary median: ' + str(UMCP_A_sample['ytd_gross_earnings'].median()))\n",
    "print('UMB sample salary median: ' + str(UMB_A_sample['ytd_gross_earnings'].median()))\n",
    "print('UMGC sample salary median: ' + str(UMGC_A_sample['ytd_gross_earnings'].median()))\n",
    "print('UMES sample salary median: ' + str(UMES_A_sample['ytd_gross_earnings'].median()))"
   ]
  },
  {
   "cell_type": "code",
   "execution_count": 52,
   "metadata": {},
   "outputs": [
    {
     "name": "stdout",
     "output_type": "stream",
     "text": [
      "Statistics=37.344314, p=0.000000\n",
      "Probably different distributions (reject H0)\n"
     ]
    }
   ],
   "source": [
    "fvalue, pvalue = stats.f_oneway(UMBC_A_sample['ytd_gross_earnings'], UMCP_A_sample['ytd_gross_earnings'], \n",
    "                                UMB_A_sample['ytd_gross_earnings'], UMGC_A_sample['ytd_gross_earnings'],\n",
    "                               UMES_A_sample['ytd_gross_earnings'])\n",
    "print('Statistics=%.6f, p=%.6f' % (fvalue, pvalue))\n",
    "alpha = 0.05\n",
    "if pvalue > alpha:\n",
    "    print('Probably the same distribution (fail to reject H0)')\n",
    "else:\n",
    "    print('Probably different distributions (reject H0)')"
   ]
  },
  {
   "cell_type": "markdown",
   "metadata": {},
   "source": [
    "The P-value obtained from ANOVA test is significant (P<0.05), so we conclude that there are significant differences among annual pay rate salaries of universities."
   ]
  },
  {
   "cell_type": "code",
   "execution_count": 53,
   "metadata": {},
   "outputs": [
    {
     "name": "stdout",
     "output_type": "stream",
     "text": [
      "    Multiple Comparison of Means - Tukey HSD, FWER=0.05     \n",
      "============================================================\n",
      "group1 group2 meandiff p-adj     lower       upper    reject\n",
      "------------------------------------------------------------\n",
      "   UMB   UMBC -29328.0  0.001 -38555.4913 -20100.5087   True\n",
      "   UMB   UMCP -33702.0  0.001 -42929.4913 -24474.5087   True\n",
      "   UMB   UMES -36574.0  0.001 -45801.4913 -27346.5087   True\n",
      "   UMB   UMGC -24612.0  0.001 -33839.4913 -15384.5087   True\n",
      "  UMBC   UMCP  -4374.0  0.671 -13601.4913   4853.4913  False\n",
      "  UMBC   UMES  -7246.0  0.202 -16473.4913   1981.4913  False\n",
      "  UMBC   UMGC   4716.0 0.6136  -4511.4913  13943.4913  False\n",
      "  UMCP   UMES  -2872.0    0.9 -12099.4913   6355.4913  False\n",
      "  UMCP   UMGC   9090.0 0.0559   -137.4913  18317.4913  False\n",
      "  UMES   UMGC  11962.0 0.0038   2734.5087  21189.4913   True\n",
      "------------------------------------------------------------\n"
     ]
    }
   ],
   "source": [
    "All_A_sample=UMBC_A_sample.append(UMCP_A_sample).append(UMB_A_sample).append(UMGC_A_sample).append(UMES_A_sample)\n",
    "result = pairwise_tukeyhsd(endog=All_A_sample['ytd_gross_earnings'], groups=All_A_sample['School'], alpha=0.05)\n",
    "print(result)"
   ]
  },
  {
   "cell_type": "markdown",
   "metadata": {},
   "source": [
    "However, comparing to the result of all salary comparison. The annual pay rate salary without termination comparison shows different results.\n",
    "\n",
    "Above results from Tukey HSD suggests that pairwise comparisons for UMB with all other universities reject null hypothesis and indicates statistical significant differences.\n",
    "\n",
    "Besides, UMBC vs UMGC, UMCP vs UMES, UMES vs UMGC are also rejecting the null hypothesis and indicating statistically significant differences.\n",
    "\n",
    "Result: The salary of UMB is higher than all other schools even for annual pay rate salary without termination records.\n",
    "     "
   ]
  },
  {
   "cell_type": "code",
   "execution_count": null,
   "metadata": {},
   "outputs": [],
   "source": []
  }
 ],
 "metadata": {
  "kernelspec": {
   "display_name": "Python 3",
   "language": "python",
   "name": "python3"
  },
  "language_info": {
   "codemirror_mode": {
    "name": "ipython",
    "version": 3
   },
   "file_extension": ".py",
   "mimetype": "text/x-python",
   "name": "python",
   "nbconvert_exporter": "python",
   "pygments_lexer": "ipython3",
   "version": "3.7.4"
  }
 },
 "nbformat": 4,
 "nbformat_minor": 2
}
