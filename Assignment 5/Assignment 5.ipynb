{
 "cells": [
  {
   "cell_type": "markdown",
   "metadata": {},
   "source": [
    "•Attached an Excel spreadsheet that has two worksheets, \"main\" and \"another\"\n",
    "\n",
    "\n",
    "•Each worksheet has data and visualizations. \n",
    "\n",
    "•Worksheet \"main\" has a \"patient id\" column; \n",
    "\n",
    "•Worksheet \"another\" has a \"p_id\" column\n",
    "\n",
    "•The \"patient id\" values in \"main\" tab are the same variable as \"p_id\" in \"another\"\n",
    "\n",
    "Submit a notebook that reads the Excel spreadsheet and produces a separate spreadsheet with the following modifications:\n",
    "\n",
    "•Use openpyxl to copy patients from \"another\" to \"main\"\n",
    "\n",
    "•For patients on \"another\" that don't exist in \"main,\" create new rows in \"main\"\n",
    "\n",
    "•Make no changes to the visualizations that exist in each worksheet\n",
    "\n",
    "•Make no changes to the data on \"another\"\n",
    "\n",
    "•Write your changes to a new .xlsx file (don't overwrite the original)\n",
    "\n",
    " \n",
    "Observations:\n",
    "\n",
    "•\"main\" worksheet will have three new columns (because those columns exist in the \"another\" worksheet)\n",
    "\n",
    "•\"main\" worksheet will have new rows (one row per patient)\n",
    "\n",
    "•There will be empty cells in \"main\" worksheet\n",
    "\n",
    "•Use a programmatic (rather than manual) approach to identify which patients appear in both worksheets\n",
    "\n",
    "•Some cells in both worksheets contain formulas. Copy only values from \"another\" to \"main\"\n",
    "\n",
    "week_05_homework_XLSX_openpyxl.xlsx\n"
   ]
  },
  {
   "cell_type": "code",
   "execution_count": 1,
   "metadata": {},
   "outputs": [
    {
     "name": "stdout",
     "output_type": "stream",
     "text": [
      "Output file created!\n"
     ]
    }
   ],
   "source": [
    "from openpyxl import load_workbook\n",
    "from openpyxl import Workbook\n",
    "\n",
    "if __name__ == '__main__':   \n",
    "    input_wb = load_workbook(filename = 'week_05_homework_XLSX_openpyxl.xlsx')                      # with formulas\n",
    "    input_wb2 = load_workbook(filename = 'week_05_homework_XLSX_openpyxl.xlsx', data_only=True)    # without formulas\n",
    "    output_wb = Workbook()\n",
    "    output_wb2 = Workbook()\n",
    "    output_wb = input_wb    # with formulas\n",
    "    output_wb2 = input_wb2  # without formulas\n",
    "\n",
    "    main_ws = output_wb['main']         # with formulas\n",
    "    another_ws = output_wb2['another']  # without formulas\n",
    "\n",
    "    main_ws_mr = main_ws.max_row           # original row length for 'main' worksheet\n",
    "    main_ws_mc = main_ws.max_column        # original column length for 'main' worksheet\n",
    "    another_ws_mr = another_ws.max_row     # original row length for 'another' worksheet\n",
    "    another_ws_mc = another_ws.max_column  # original column length for 'another' worksheet\n",
    "    match_id_index = []   # list to stores matched patients row index in both worksheets\n",
    "    match_id_list = []    # list to stores matched patients row index in 'another' worksheet\n",
    "    unmatch_id_list = []  # list to stores unmatched patients row index in 'another' worksheet\n",
    "\n",
    "    # loop over two worksheets to identify matched patients and stores the row index to lists\n",
    "    for x in range(1, another_ws_mr + 1):\n",
    "        for y in range(1, main_ws_mr  + 1):\n",
    "            if main_ws.cell(row = y, column = 1).value == another_ws.cell(row = x, column = 1).value:\n",
    "                match_id_index.append([main_ws.cell(row = y, column = 1).row , another_ws.cell(row = x, column = 1).row])\n",
    "                match_id_list.append(another_ws.cell(row = x, column = 1).row)\n",
    "\n",
    "    # loop over 'another' worksheet to identify remaining unmatched patients and stores the row index to list\n",
    "    for x in range(2, another_ws_mr + 1):\n",
    "        if x not in match_id_list:\n",
    "            unmatch_id_list.append(x)    \n",
    "\n",
    "    # insert new columns and first header row to the 'main' worksheet\n",
    "    for x in range(2, another_ws_mc + 1):\n",
    "        main_ws.insert_cols(main_ws_mc + x - 1)\n",
    "        main_ws.cell(row = 1, column = main_ws_mc + x - 1).value = another_ws.cell(row = 1, column = x).value\n",
    "\n",
    "    # loop over the matched patients list \n",
    "    # use the row index in the list to insert new columns to the matched patients in the 'main' worksheet\n",
    "    for row_id in match_id_index:\n",
    "        for y in range(main_ws_mc + 1, main_ws.max_column + 1):\n",
    "            main_ws.cell(row = row_id[0], column = y).value = another_ws.cell(row = row_id[1], column = y - main_ws_mc + 1).value\n",
    "\n",
    "    # loop over the unmatched patients list \n",
    "    # insert new rows and new columns for the unmatched patients in the 'main' worksheet\n",
    "    for index, row_id in enumerate(unmatch_id_list):\n",
    "        main_ws.cell(row = main_ws_mr + index, column = 1).value = another_ws.cell(row = row_id, column = 1).value\n",
    "        for y in range(main_ws_mc + 1, main_ws.max_column + 1):\n",
    "            main_ws.cell(row = main_ws_mr + index, column = y).value = another_ws.cell(row = row_id, column = y - main_ws_mc + 1).value\n",
    "\n",
    "    # generate output xlsx file\n",
    "    output_wb.save(filename = 'output.xlsx')\n",
    "    print('Output file created!')"
   ]
  },
  {
   "cell_type": "code",
   "execution_count": null,
   "metadata": {},
   "outputs": [],
   "source": []
  }
 ],
 "metadata": {
  "kernelspec": {
   "display_name": "Python 3",
   "language": "python",
   "name": "python3"
  },
  "language_info": {
   "codemirror_mode": {
    "name": "ipython",
    "version": 3
   },
   "file_extension": ".py",
   "mimetype": "text/x-python",
   "name": "python",
   "nbconvert_exporter": "python",
   "pygments_lexer": "ipython3",
   "version": "3.7.4"
  }
 },
 "nbformat": 4,
 "nbformat_minor": 2
}
