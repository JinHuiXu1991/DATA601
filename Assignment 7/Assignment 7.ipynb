{
 "cells": [
  {
   "cell_type": "markdown",
   "metadata": {},
   "source": [
    "For an assignment you previously submitted, reimplement the solution with a faster approach. \n",
    "\n",
    "Measure the change of timing for the original and revised notebooks\n",
    "\n",
    "Submit the original notebook (with timings present in the notebook) and the revised notebook (with timings present in the notebook)\n",
    "\n",
    "Options for improving performance (suggestions; not required):\n",
    "\n",
    "•Rewrite the code to perform the same outcome more efficiently\n",
    "•Use numba\n",
    "•Use multiprocessing\n",
    "•Replace a function call with lambda\n",
    "•Replace a for loop with a list comprehension\n",
    "•Use a RAM disk\n",
    "•Make fewer external function calls (eg faker, random)"
   ]
  },
  {
   "cell_type": "code",
   "execution_count": 4,
   "metadata": {},
   "outputs": [
    {
     "name": "stdout",
     "output_type": "stream",
     "text": [
      "Enter number of rolls:1000000\n"
     ]
    },
    {
     "data": {
      "text/html": [
       "<div>\n",
       "<style scoped>\n",
       "    .dataframe tbody tr th:only-of-type {\n",
       "        vertical-align: middle;\n",
       "    }\n",
       "\n",
       "    .dataframe tbody tr th {\n",
       "        vertical-align: top;\n",
       "    }\n",
       "\n",
       "    .dataframe thead th {\n",
       "        text-align: right;\n",
       "    }\n",
       "</style>\n",
       "<table border=\"1\" class=\"dataframe\">\n",
       "  <thead>\n",
       "    <tr style=\"text-align: right;\">\n",
       "      <th></th>\n",
       "      <th>Roll Type</th>\n",
       "      <th>1</th>\n",
       "      <th>2</th>\n",
       "      <th>3</th>\n",
       "      <th>4</th>\n",
       "      <th>5</th>\n",
       "      <th>6</th>\n",
       "    </tr>\n",
       "  </thead>\n",
       "  <tbody>\n",
       "    <tr>\n",
       "      <td>0</td>\n",
       "      <td>fair</td>\n",
       "      <td>166373</td>\n",
       "      <td>166022</td>\n",
       "      <td>167940</td>\n",
       "      <td>166737</td>\n",
       "      <td>166137</td>\n",
       "      <td>166791</td>\n",
       "    </tr>\n",
       "    <tr>\n",
       "      <td>1</td>\n",
       "      <td>biased</td>\n",
       "      <td>149969</td>\n",
       "      <td>150254</td>\n",
       "      <td>149640</td>\n",
       "      <td>149359</td>\n",
       "      <td>149888</td>\n",
       "      <td>250890</td>\n",
       "    </tr>\n",
       "  </tbody>\n",
       "</table>\n",
       "</div>"
      ],
      "text/plain": [
       "  Roll Type       1       2       3       4       5       6\n",
       "0      fair  166373  166022  167940  166737  166137  166791\n",
       "1    biased  149969  150254  149640  149359  149888  250890"
      ]
     },
     "metadata": {},
     "output_type": "display_data"
    },
    {
     "data": {
      "image/png": "[encoded data removed]",
      "text/plain": [
       "<Figure size 432x288 with 1 Axes>"
      ]
     },
     "metadata": {
      "needs_background": "light"
     },
     "output_type": "display_data"
    },
    {
     "name": "stdout",
     "output_type": "stream",
     "text": [
      "Run time: 29.183242797851562 seconds\n"
     ]
    }
   ],
   "source": [
    "import random\n",
    "import numpy as np\n",
    "import matplotlib.pyplot as plt\n",
    "import pandas\n",
    "import time\n",
    "\n",
    "def dice_simulate(num_run):\n",
    "    fair_dice_result = []\n",
    "    biased_dice_result = []\n",
    "    for i in range(num_run):  \n",
    "        fair_dice = random.randint(1,6)\n",
    "        fair_dice_result.append(fair_dice)\n",
    "        \n",
    "        dice_list = [1,2,3,4,5,6]\n",
    "        biased_dice = np.random.choice(dice_list, 1, p=[0.15, 0.15, 0.15, 0.15, 0.15, 0.25])\n",
    "        biased_dice_result.append(biased_dice[0])\n",
    "    \n",
    "    \n",
    "    df = pandas.DataFrame([{'Roll Type':'fair','1':fair_dice_result.count(1),'2':fair_dice_result.count(2),\n",
    "                           '3':fair_dice_result.count(3),'4':fair_dice_result.count(4),\n",
    "                           '5':fair_dice_result.count(5),'6':fair_dice_result.count(6)},\n",
    "                            {'Roll Type':'biased','1':biased_dice_result.count(1),'2':biased_dice_result.count(2),\n",
    "                           '3':biased_dice_result.count(3),'4':biased_dice_result.count(4),\n",
    "                           '5':biased_dice_result.count(5),'6':biased_dice_result.count(6)}])\n",
    "    display(df)\n",
    "    plt.title('Dice Result Comparison')\n",
    "    plt.xlabel('dice outcome')\n",
    "    plt.ylabel('number of rolls')\n",
    "    _=plt.hist([fair_dice_result, biased_dice_result], label=['fair', 'baised'])\n",
    "    plt.legend()\n",
    "    plt.show()\n",
    "    \n",
    "if __name__ == '__main__':        \n",
    "    num_run = input(\"Enter number of rolls:\")\n",
    "    start_time = time.time()\n",
    "    dice_simulate(int(num_run))\n",
    "    for_loop_time = time.time() - start_time\n",
    "    print('Run time:', for_loop_time, 'seconds')"
   ]
  },
  {
   "cell_type": "code",
   "execution_count": 5,
   "metadata": {},
   "outputs": [
    {
     "name": "stdout",
     "output_type": "stream",
     "text": [
      "Enter number of rolls:1000000\n"
     ]
    },
    {
     "data": {
      "text/html": [
       "<div>\n",
       "<style scoped>\n",
       "    .dataframe tbody tr th:only-of-type {\n",
       "        vertical-align: middle;\n",
       "    }\n",
       "\n",
       "    .dataframe tbody tr th {\n",
       "        vertical-align: top;\n",
       "    }\n",
       "\n",
       "    .dataframe thead th {\n",
       "        text-align: right;\n",
       "    }\n",
       "</style>\n",
       "<table border=\"1\" class=\"dataframe\">\n",
       "  <thead>\n",
       "    <tr style=\"text-align: right;\">\n",
       "      <th></th>\n",
       "      <th>Roll Type</th>\n",
       "      <th>1</th>\n",
       "      <th>2</th>\n",
       "      <th>3</th>\n",
       "      <th>4</th>\n",
       "      <th>5</th>\n",
       "      <th>6</th>\n",
       "    </tr>\n",
       "  </thead>\n",
       "  <tbody>\n",
       "    <tr>\n",
       "      <td>0</td>\n",
       "      <td>fair</td>\n",
       "      <td>166925</td>\n",
       "      <td>167265</td>\n",
       "      <td>166063</td>\n",
       "      <td>165795</td>\n",
       "      <td>166918</td>\n",
       "      <td>167034</td>\n",
       "    </tr>\n",
       "    <tr>\n",
       "      <td>1</td>\n",
       "      <td>biased</td>\n",
       "      <td>150230</td>\n",
       "      <td>150085</td>\n",
       "      <td>149858</td>\n",
       "      <td>150556</td>\n",
       "      <td>149620</td>\n",
       "      <td>249651</td>\n",
       "    </tr>\n",
       "  </tbody>\n",
       "</table>\n",
       "</div>"
      ],
      "text/plain": [
       "  Roll Type       1       2       3       4       5       6\n",
       "0      fair  166925  167265  166063  165795  166918  167034\n",
       "1    biased  150230  150085  149858  150556  149620  249651"
      ]
     },
     "metadata": {},
     "output_type": "display_data"
    },
    {
     "data": {
      "image/png": "[encoded data removed]",
      "text/plain": [
       "<Figure size 432x288 with 1 Axes>"
      ]
     },
     "metadata": {
      "needs_background": "light"
     },
     "output_type": "display_data"
    },
    {
     "name": "stdout",
     "output_type": "stream",
     "text": [
      "Run time: 9.47424054145813 seconds\n"
     ]
    }
   ],
   "source": [
    "import matplotlib.pyplot as plt\n",
    "import pandas\n",
    "import time\n",
    "import worker # dice simulate functions have to be in a separate python file for multiprocessing on Windows\n",
    "from multiprocessing import Pool\n",
    "import multiprocessing\n",
    "\n",
    "if __name__ == '__main__':       \n",
    "    num_run = input(\"Enter number of rolls:\")\n",
    "    \n",
    "    start_time = time.time()\n",
    "    num_processors = multiprocessing.cpu_count()\n",
    "    pool=Pool(processes = num_processors)\n",
    "    \n",
    "    # use multiprocessing to generate dice simulation result lists\n",
    "    fair_dice_result = pool.map(worker.dice_simulate_fair,range(int(num_run)))\n",
    "    biased_dice_result = pool.map(worker.dice_simulate_biased,range(int(num_run)))\n",
    "    \n",
    "    df = pandas.DataFrame([{'Roll Type':'fair','1':fair_dice_result.count(1),'2':fair_dice_result.count(2),\n",
    "                           '3':fair_dice_result.count(3),'4':fair_dice_result.count(4),\n",
    "                           '5':fair_dice_result.count(5),'6':fair_dice_result.count(6)},\n",
    "                            {'Roll Type':'biased','1':biased_dice_result.count(1),'2':biased_dice_result.count(2),\n",
    "                           '3':biased_dice_result.count(3),'4':biased_dice_result.count(4),\n",
    "                           '5':biased_dice_result.count(5),'6':biased_dice_result.count(6)}])\n",
    "    display(df)\n",
    "    plt.title('Dice Result Comparison')\n",
    "    plt.xlabel('dice outcome')\n",
    "    plt.ylabel('number of rolls')\n",
    "    _=plt.hist([fair_dice_result, biased_dice_result], label=['fair', 'baised'])\n",
    "    plt.legend()\n",
    "    plt.show()\n",
    "    multiprocessing_time = time.time() - start_time\n",
    "    print('Run time:', multiprocessing_time, 'seconds')"
   ]
  },
  {
   "cell_type": "code",
   "execution_count": 6,
   "metadata": {},
   "outputs": [
    {
     "name": "stdout",
     "output_type": "stream",
     "text": [
      "Time comparison for 1000000 simulation(s): \n",
      "Original with for loop:  29.183242797851562 seconds\n",
      "Revised with multiprocessing:  9.47424054145813 seconds\n"
     ]
    }
   ],
   "source": [
    "print('Time comparison for {0} simulation(s): '.format(int(num_run)))\n",
    "print('Original with for loop: ', for_loop_time, 'seconds')\n",
    "print('Revised with multiprocessing: ', multiprocessing_time, 'seconds')"
   ]
  },
  {
   "cell_type": "code",
   "execution_count": null,
   "metadata": {},
   "outputs": [],
   "source": []
  }
 ],
 "metadata": {
  "kernelspec": {
   "display_name": "Python 3",
   "language": "python",
   "name": "python3"
  },
  "language_info": {
   "codemirror_mode": {
    "name": "ipython",
    "version": 3
   },
   "file_extension": ".py",
   "mimetype": "text/x-python",
   "name": "python",
   "nbconvert_exporter": "python",
   "pygments_lexer": "ipython3",
   "version": "3.7.4"
  }
 },
 "nbformat": 4,
 "nbformat_minor": 2
}
